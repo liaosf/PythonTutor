{
 "cells": [
  {
   "cell_type": "markdown",
   "metadata": {},
   "source": [
    "# HTML简介\n",
    "\n",
    "**HTML**语言（超文本标记语言，HyperText Markup Language）是编写网页的标准语言。HTML是一种标记语言，使用**标签**标记关键词。HTML语言中的标签通常都是成对出现的，包括一个开始标签和一个结束标签，结束标签即在标签名前面加一个斜杠：/。\n",
    "\n",
    "所有的HTML文件都是以<html\\>标签开始，以</html\\>标签结束的。而在中间，还有两个主要组成部分：\n",
    "\n",
    "* 以<head\\>标签开始、</head\\>标签结束的部分称之为头部，通常定义了一些网页的元数据，包括网页的标题、关键字等；\n",
    "* 以<body\\>标签开始、</body\\>标签结束的部分为网页的主体，也就是我们能够看到的部分。\n",
    "\n",
    "因而，一个非常简单的网页如下所示（html/example1.html）：\n",
    "\n",
    "```html\n",
    "<html>\n",
    "    <head>\n",
    "        <title>一个简单的网页</title>\n",
    "    </head>\n",
    "    <body>\n",
    "        <p>这是一段文本</p>\n",
    "        <a href='http://github.com'>这是一个链接：GitHub</a>\n",
    "    </body>\n",
    "</html>\n",
    "```\n",
    "\n",
    "其效果如下图所示：\n",
    "![](html/example1.png \"简单网页\")\n",
    "\n",
    "注意在上面的简单网页中，我们使用了两个另外的标签：\n",
    "\n",
    "* 以<p\\>标签开始、</p\\>标签结束，代表一个段落\n",
    "* 以<a\\>标签开始、</a\\>标签结束，代表一个超链接\n",
    "\n",
    "此外，注意到在<a\\>标签中，有一个href=，这是链接的属性，该属性代表这个超链接的地址。\n",
    "\n",
    "上面提到，标签一般都是成对出现的，但是也有不是成对出现的，比如插入图像时，我们要使用<img\\>标签，该标签就不是成对出现，但是因为该标签不是成对出现，所以要在结尾加一个斜杠：<img/\\>，比如（html/example2.html）：\n",
    "```html\n",
    "<html>\n",
    "    <head>\n",
    "        <title>一个简单的网页</title>\n",
    "    </head>\n",
    "    <body>\n",
    "        <p>这是一段文本</p>\n",
    "        <a href='http://github.com'>\n",
    "            <p>这是一个链接：GitHub</p>\n",
    "            <img src='example1.png' />\n",
    "        </a>\n",
    "    </body>\n",
    "</html>\n",
    "```\n",
    "\n",
    "在以上的HTML代码中，我们插入了一个图片，其地址为同一个文件夹下面的“example1.png”。\n",
    "\n",
    "此外，注意到在以上代码中，<img/\\>标签被加载了<a\\>标签的中间，而<a\\>标签意味着超链接，从而现在，这张图片是可以点击的，点击图片就可以进入到GitHub的网址上。\n",
    "\n",
    "HTML的标签有很多很多，一个比较好的速查的网站是： http://www.w3school.com.cn ，在这里面几乎可以找到所有的网页标签及其使用方式，包括CSS等。\n",
    "\n",
    "有几个标签是写爬虫时经常使用的，在这里我们做简单介绍。\n",
    "\n",
    "## div\n",
    "\n",
    "div一般称为层、分区、节，该元素没有什么特别含义，仅仅是组合其他HTML元素的容器。在HTML中，经常使用该元素将特定的内容组合起来，实现分组的功能，这样就可以针对这一分组的内容进行统一的控制。\n",
    "\n",
    "在爬虫中，经常需要从整个HTML文档中摘取出特定的div，并在该div里面摘取特定内容。\n",
    "\n",
    "## span\n",
    "\n",
    "span和层类似，本身没有特殊含义，与div作用类似，只不过span一般用于组合行内元素。\n",
    "\n",
    "## table\n",
    "\n",
    "在HTML中，表格使用<table\\></table\\>声明，并使用<tr\\></tr\\>声明行、使用<td\\></td\\>声明单元格，比如（example3.html）：\n",
    "```html\n",
    "<html>\n",
    "    <head>\n",
    "        <title>一个简单的网页</title>\n",
    "    </head>\n",
    "    <body>\n",
    "        <div>\n",
    "            <p>这是一个表格</p>\n",
    "            <table border=\"1\">\n",
    "                <tr>\n",
    "                    <td>姓名</td>\n",
    "                    <td>号码</td>\n",
    "                </tr>\n",
    "                <tr>\n",
    "                    <td>Messi</td>\n",
    "                    <td>10</td>\n",
    "                </tr>\n",
    "                <tr>\n",
    "                    <td>Xavi</td>\n",
    "                    <td>6</td>\n",
    "                </tr>\n",
    "                <tr>\n",
    "                    <td>Iniesta</td>\n",
    "                    <td>8</td>\n",
    "                </tr>\n",
    "            </table>\n",
    "        </div>\n",
    "    </body>\n",
    "</html>\n",
    "```\n",
    "\n",
    "在以上代码中，我们将一个表格放入了一个div中，并且为这个表格添加了一个属性：显示边框。\n",
    "\n",
    "## 标题和列表\n",
    "\n",
    "HTML中标题使用<h1\\></h1\\>、<h2\\></h2\\>...<h6\\></h6\\>等声明，数字越大，代表层级越小。\n",
    "\n",
    "此外，还可以使用无序列表（<ul\\></ul\\>）和有序列表（<ol\\></ol\\>），列表项目用<li\\></li\\>表示，列表可以嵌套。\n",
    "\n",
    "比如（example4.html）：\n",
    "\n",
    "```html\n",
    "<html>\n",
    "    <head>\n",
    "        <title>一个简单的网页</title>\n",
    "    </head>\n",
    "    <body>\n",
    "        <h1>一级标题</h1>\n",
    "            <p>这是一段文本</p>\n",
    "            <h2>二级标题</h2>\n",
    "                <a href='http://github.com'>这是一个链接：GitHub</a>\n",
    "            <h2>二级标题2</h2>\n",
    "                <p>一些文本</p>\n",
    "        <h1>一级标题2</h1>\n",
    "        <ul>\n",
    "            <li><a href='http://www.w3school.com.cn/html/html_blocks.asp' target=\"_blank\" id='a'>div</a></li>\n",
    "            <li><a href='http://www.w3school.com.cn/html/html_blocks.asp' target=\"_blank\">span</a></li>\n",
    "            <li><a href=\"http://www.w3school.com.cn/html/html_paragraphs.asp\" target=\"_blank\" style=\"color: red;\">p</a></li>\n",
    "        </ul>\n",
    "        <ol>\n",
    "            <li>select</li>\n",
    "            <ol>\n",
    "                <li>from</li>\n",
    "                <li>where</li>\n",
    "            </ol>\n",
    "            <li>create</li>\n",
    "            <li>insert into</li>\n",
    "        </ol>\n",
    "    </body>\n",
    "</html>\n",
    "```\n",
    "\n",
    "## 层叠样式表和id\n",
    "\n",
    "以上我们建立了非常简单的HTML页面，当然，都非常原始且丑。我们平时看到的页面往往是非常漂亮的，在设定HTML页面的外观方面，**层叠样式表**（**cascading style sheets**，**CSS**）是一个非常强大的工具。\n",
    "\n",
    "由于本教程不是专门的HTML教学，因而在这里我们将不会介绍CSS的详细功能：CSS功能非常错综复杂。但是了解一些基本的CSS的知识对于我们从网页中提取特征是非常有用的。在HTML中，不管任何标签，都有可能使用style=\"\"来标示所使用的样式表。这是一个非常有用的特征。\n",
    "\n",
    "除了style之外，id也是常用的标示感兴趣的元素的属性。id最大的用处有两个：供JavaScript动态控制，供CSS调整格式。\n",
    "\n",
    "在上面的例子中，我们也分别使用了style和id属性，其中style的作用是将文字的颜色变为红色。"
   ]
  },
  {
   "cell_type": "markdown",
   "metadata": {},
   "source": [
    "# 使用BeautifulSoup解析HTML\n",
    "\n",
    "以上我们介绍了HTML的书写过程，但是在爬虫中，最常用的是其逆向过程：从HTML中选出我们需要的信息。\n",
    "\n",
    "我们之前已经学过了正则表达式，实际上正则表达式可以非常方便地从HTML中提取出一些信息，然而正则表达式没有利用HTML语言的树形的特点，在比较复杂的HTML解析中，可能并没有那么方便。\n",
    "\n",
    "而另外一种方法则是充分利用HTML语言的信息，以HTML树和标签为单位，结合标签的属性等信息提取信息。\n",
    "\n",
    "当然，现实中经常两种方法混合使用，效果通常非常好。\n",
    "\n",
    "Python有很多工具都可以对HTML的进行解析，而其中比较方便的时BeautifulSoup。\n",
    "\n",
    "为了使用BeautifulSoup，首先需要安装，使用：pip install bs4 命令就可以进行安装了，在Python程序中使用：\n",
    "```python\n",
    "from bs4 import BeautifulSoup\n",
    "```\n",
    "\n",
    "进行导入。\n",
    "\n",
    "导入之后，给定HTML文本，可以用如下方式初始化BeautifulSoup对象：\n",
    "```python\n",
    "bs=BeautifulSoup(html,\"html.parser\")\n",
    "```\n",
    "\n",
    "如此，我们就创建了一个BeautifulSoup对象，其中html为我们要解析的HTML字符串，而\"html.parser\"为Python标准库中的HTML解析器，也可以使用\"lxml\"等。\n",
    "\n",
    "对于BeautifulSoup对象，我们可以很简单的使用.操作符来表示子成员，比如："
   ]
  },
  {
   "cell_type": "code",
   "execution_count": 1,
   "metadata": {},
   "outputs": [
    {
     "name": "stdout",
     "output_type": "stream",
     "text": [
      "一个简单的网页\n",
      "一级标题\n",
      "这是一个链接：GitHub\n"
     ]
    }
   ],
   "source": [
    "html=\"\"\"\n",
    "<html>\n",
    "    <head>\n",
    "        <title>一个简单的网页</title>\n",
    "    </head>\n",
    "    <body>\n",
    "        <h1>一级标题</h1>\n",
    "            <p>这是一段文本</p>\n",
    "            <h2>二级标题</h2>\n",
    "                <a href='http://github.com'>这是一个链接：GitHub</a>\n",
    "            <h2>二级标题2</h2>\n",
    "                <p>一些文本</p>\n",
    "        <h1>一级标题2</h1>\n",
    "        <ul>\n",
    "            <li><a href='http://www.w3school.com.cn/html/html_blocks.asp' target=\"_blank\" id='a'>div</a></li>\n",
    "            <li><a href='http://www.w3school.com.cn/html/html_blocks.asp' target=\"_blank\">span</a></li>\n",
    "            <li><a href=\"http://www.w3school.com.cn/html/html_paragraphs.asp\" target=\"_blank\" style=\"color: red;\">p</a></li>\n",
    "        </ul>\n",
    "        <ol>\n",
    "            <li>select</li>\n",
    "            <ol>\n",
    "                <li>from</li>\n",
    "                <li>where</li>\n",
    "            </ol>\n",
    "            <li>create</li>\n",
    "            <li>insert into</li>\n",
    "        </ol>\n",
    "    </body>\n",
    "</html>\n",
    "\"\"\"\n",
    "from bs4 import BeautifulSoup\n",
    "bs=BeautifulSoup(html,\"html.parser\")\n",
    "print(bs.title.text)\n",
    "print(bs.h1.text)\n",
    "print(bs.a.text)"
   ]
  },
  {
   "cell_type": "markdown",
   "metadata": {},
   "source": [
    "注意在以上的HTML代码中，不止有一个h1和a标签，但是如果简单的使用.操作符的话，bs只会返回第一个标签的内容。\n",
    "\n",
    "此外，在上面的代码中，我们使用了.text获取标签的文本内容。除了text外，还有其他几个方法获得标签的内容：\n",
    "\n",
    "* string：出单一子标签文本内容或注释内容\n",
    "* text：可同时输出多个子标签内容\n",
    "* strings：返回所有子孙标签的文本内容的生成器（不包含注释）\n",
    "* stripped_strings：返回所有子孙标签的文本内容的生成器（不包含注释,并且在去掉了strings中的空行和空格）\n",
    "* get_text()方法：与text几乎等价\n",
    "\n",
    "比如："
   ]
  },
  {
   "cell_type": "code",
   "execution_count": 2,
   "metadata": {},
   "outputs": [
    {
     "name": "stdout",
     "output_type": "stream",
     "text": [
      "\n",
      "一级标题\n",
      "这是一段文本\n",
      "二级标题\n",
      "这是一个链接：GitHub\n",
      "二级标题2\n",
      "一些文本\n",
      "一级标题2\n",
      "\n",
      "div\n",
      "span\n",
      "p\n",
      "\n",
      "\n",
      "select\n",
      "\n",
      "from\n",
      "where\n",
      "\n",
      "create\n",
      "insert into\n",
      "\n",
      "\n",
      "-----------------\n",
      "\n",
      "一级标题\n",
      "这是一段文本\n",
      "二级标题\n",
      "这是一个链接：GitHub\n",
      "二级标题2\n",
      "一些文本\n",
      "一级标题2\n",
      "\n",
      "div\n",
      "span\n",
      "p\n",
      "\n",
      "\n",
      "select\n",
      "\n",
      "from\n",
      "where\n",
      "\n",
      "create\n",
      "insert into\n",
      "\n",
      "\n",
      "-----------------\n",
      "None\n",
      "-----------------\n",
      "一级标题\n",
      "这是一段文本\n",
      "二级标题\n",
      "这是一个链接：GitHub\n",
      "二级标题2\n",
      "一些文本\n",
      "一级标题2\n",
      "div\n",
      "span\n",
      "p\n",
      "select\n",
      "from\n",
      "where\n",
      "create\n",
      "insert into\n"
     ]
    }
   ],
   "source": [
    "print(bs.body.text)\n",
    "print('-----------------')\n",
    "print(bs.body.get_text())\n",
    "print('-----------------')\n",
    "print(bs.body.string)\n",
    "print('-----------------')\n",
    "for s in bs.body.stripped_strings:\n",
    "    print(s)"
   ]
  },
  {
   "cell_type": "markdown",
   "metadata": {},
   "source": [
    "当然，属性也是非常容易获取的，比如如果想获得第一个链接的链接地址，只需要输入："
   ]
  },
  {
   "cell_type": "code",
   "execution_count": 3,
   "metadata": {},
   "outputs": [
    {
     "name": "stdout",
     "output_type": "stream",
     "text": [
      "http://github.com\n"
     ]
    }
   ],
   "source": [
    "print(bs.a['href'])"
   ]
  },
  {
   "cell_type": "markdown",
   "metadata": {},
   "source": [
    "或者，可以使用get()方法："
   ]
  },
  {
   "cell_type": "code",
   "execution_count": 4,
   "metadata": {},
   "outputs": [
    {
     "name": "stdout",
     "output_type": "stream",
     "text": [
      "http://github.com\n"
     ]
    }
   ],
   "source": [
    "print(bs.a.get('href'))"
   ]
  },
  {
   "cell_type": "markdown",
   "metadata": {},
   "source": [
    "以上使用.操作符只返回了第一个对应元素的内容，如果我们想要找到其他同类别元素，可以使用find_all()方法。比如，以下代码找到了所有的超链接："
   ]
  },
  {
   "cell_type": "code",
   "execution_count": 5,
   "metadata": {},
   "outputs": [
    {
     "name": "stdout",
     "output_type": "stream",
     "text": [
      "http://github.com\n",
      "http://www.w3school.com.cn/html/html_blocks.asp\n",
      "http://www.w3school.com.cn/html/html_blocks.asp\n",
      "http://www.w3school.com.cn/html/html_paragraphs.asp\n"
     ]
    }
   ],
   "source": [
    "links=bs.find_all('a')\n",
    "for l in links:\n",
    "    print(l['href'])"
   ]
  },
  {
   "cell_type": "markdown",
   "metadata": {},
   "source": [
    "如果我们只想找无序列表（ul）中的超链接，可以直接在ul中找："
   ]
  },
  {
   "cell_type": "code",
   "execution_count": 6,
   "metadata": {},
   "outputs": [
    {
     "name": "stdout",
     "output_type": "stream",
     "text": [
      "http://www.w3school.com.cn/html/html_blocks.asp\n",
      "http://www.w3school.com.cn/html/html_blocks.asp\n",
      "http://www.w3school.com.cn/html/html_paragraphs.asp\n"
     ]
    }
   ],
   "source": [
    "links=bs.ul.find_all('a')\n",
    "for l in links:\n",
    "    print(l['href'])"
   ]
  },
  {
   "cell_type": "markdown",
   "metadata": {},
   "source": [
    "此外，find_all()函数还可以查找具有类似属性的标签，比如，如果我们只希望找到id为a的超链接，可以使用："
   ]
  },
  {
   "cell_type": "code",
   "execution_count": 7,
   "metadata": {},
   "outputs": [
    {
     "name": "stdout",
     "output_type": "stream",
     "text": [
      "http://www.w3school.com.cn/html/html_blocks.asp div\n"
     ]
    }
   ],
   "source": [
    "links=bs.ul.find_all('a', attrs={'id':'a'})\n",
    "for l in links:\n",
    "    print(l['href'], l.text)"
   ]
  },
  {
   "cell_type": "markdown",
   "metadata": {},
   "source": [
    "在上面的代码中，额外使用了attrs={'id':'a'}设定需要找具有id属性等于a的a标签，结果只有一个。\n",
    "\n",
    "当然也可以查找具有特定内容的标签，比如："
   ]
  },
  {
   "cell_type": "code",
   "execution_count": 8,
   "metadata": {},
   "outputs": [
    {
     "name": "stdout",
     "output_type": "stream",
     "text": [
      "http://www.w3school.com.cn/html/html_blocks.asp span\n"
     ]
    }
   ],
   "source": [
    "links=bs.ul.find_all('a', text='span')\n",
    "for l in links:\n",
    "    print(l['href'], l.text)"
   ]
  },
  {
   "cell_type": "markdown",
   "metadata": {},
   "source": [
    "实际上在查找时也可以使用正则表达式："
   ]
  },
  {
   "cell_type": "code",
   "execution_count": 9,
   "metadata": {},
   "outputs": [
    {
     "name": "stdout",
     "output_type": "stream",
     "text": [
      "http://www.w3school.com.cn/html/html_blocks.asp div\n",
      "http://www.w3school.com.cn/html/html_blocks.asp span\n"
     ]
    }
   ],
   "source": [
    "import re\n",
    "links=bs.ul.find_all('a', text=re.compile('(span|div)'))\n",
    "for l in links:\n",
    "    print(l['href'], l.text)"
   ]
  },
  {
   "cell_type": "code",
   "execution_count": 10,
   "metadata": {},
   "outputs": [
    {
     "name": "stdout",
     "output_type": "stream",
     "text": [
      "http://www.w3school.com.cn/html/html_blocks.asp div\n",
      "http://www.w3school.com.cn/html/html_blocks.asp span\n",
      "http://www.w3school.com.cn/html/html_paragraphs.asp p\n"
     ]
    }
   ],
   "source": [
    "links=bs.ul.find_all('a', attrs={'href':re.compile('.*w3school.*')})\n",
    "for l in links:\n",
    "    print(l['href'], l.text)"
   ]
  },
  {
   "cell_type": "markdown",
   "metadata": {},
   "source": [
    "实际上，find_all()的第一个参数名为name，因此以上的命令也可以写为：\n",
    "```python\n",
    "links=bs.ul.find_all(name='a', attrs={'href':re.compile('.*w3school.*')})\n",
    "```\n",
    "\n",
    "当然，name也可以省略："
   ]
  },
  {
   "cell_type": "code",
   "execution_count": 11,
   "metadata": {},
   "outputs": [
    {
     "name": "stdout",
     "output_type": "stream",
     "text": [
      "http://www.w3school.com.cn/html/html_blocks.asp div\n",
      "http://www.w3school.com.cn/html/html_blocks.asp span\n",
      "http://www.w3school.com.cn/html/html_paragraphs.asp p\n"
     ]
    }
   ],
   "source": [
    "links=bs.ul.find_all(attrs={'href':re.compile('.*w3school.*')})\n",
    "for l in links:\n",
    "    print(l['href'], l.text)"
   ]
  },
  {
   "cell_type": "markdown",
   "metadata": {},
   "source": [
    "除此之外，BeautifulSoup还支持很多依赖于树的搜索方式，比如（用正则表达式表示）：\n",
    "\n",
    "* find_parents?()：寻找父节点\n",
    "* find_next_siblings?()：寻找邻居节点\n",
    "* find_previous_siblings?()：寻找前面的邻居节点\n",
    "* find_(all_)?next()：寻找后面的节点\n",
    "* find_(all_)?previous()：寻找前面的节点\n",
    "\n",
    "篇幅所限我们不再赘述。如有兴趣，可以参考BeautifulSoup的文档： https://www.crummy.com/software/BeautifulSoup/bs4/doc/ \n",
    "\n",
    "## 如何寻找感兴趣的数据？\n",
    "\n",
    "浏览器带的开发者工具：\n",
    "\n",
    "![](html/baidunews.png)"
   ]
  }
 ],
 "metadata": {
  "kernelspec": {
   "display_name": "Python 3",
   "language": "python",
   "name": "python3"
  },
  "language_info": {
   "codemirror_mode": {
    "name": "ipython",
    "version": 3
   },
   "file_extension": ".py",
   "mimetype": "text/x-python",
   "name": "python",
   "nbconvert_exporter": "python",
   "pygments_lexer": "ipython3",
   "version": "3.7.3"
  }
 },
 "nbformat": 4,
 "nbformat_minor": 2
}
