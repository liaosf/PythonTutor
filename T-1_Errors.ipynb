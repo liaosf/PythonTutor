{
 "cells": [
  {
   "cell_type": "markdown",
   "metadata": {},
   "source": [
    "# 常见报错\n",
    "\n",
    "这个Notebook汇集一部分报错信息的解决方法。"
   ]
  },
  {
   "cell_type": "markdown",
   "metadata": {},
   "source": [
    "# 安装相关\n",
    "\n",
    "## 权限问题\n",
    "\n",
    "运行pip时提示：\n",
    "```\n",
    "Error: Could not install packages due to EnvironmentError: [WinError 5] 拒绝访问.......\n",
    "```\n",
    "解决方法：运行pip命令时加 --user选项\n",
    "\n",
    "## 包未安装\n",
    "\n",
    "运行Python代码时报错，错误代码一般为：\n",
    "```\n",
    "ModuleNotFoundError: No module named '.....'\n",
    "```\n",
    "\n",
    "没有安装需要的包，用pip安装需要的包即可。\n",
    "\n",
    "## 没有找到包\n",
    "\n",
    "运行pip时提示：\n",
    "```\n",
    "Error: No matching distribution found for .....\n",
    "```\n",
    "解决方法：分几种情况：\n",
    "\n",
    "1. 检查是否有输入错误，比如gensim输错为genism\n",
    "2. 很多包导入的名字和安装的名字不一样，比如Levenshtein安装时应该用「pip install python-levenshtein」，sklearn安装时应该用scikit-learn等等，需要确认pip安装的包名字正确。\n",
    "\n",
    "## 没有编译环境\n",
    "\n",
    "安装时提示类似：\n",
    "```\n",
    "error: Microsoft Visual C++ ... is required......\n",
    "```\n",
    "\n",
    "说明安装的时候需要进行编译，而Windows上没有响应的编译器。\n",
    "\n",
    "解决方法：安装VC++、MinGW等环境。都比较复杂。\n",
    "\n",
    "终极解决方法：用Linux，或者WSL。"
   ]
  },
  {
   "cell_type": "markdown",
   "metadata": {},
   "source": [
    "# 读取文件相关\n",
    "\n",
    "## 编码错误\n",
    "\n",
    "错误代码为：\n",
    "```\n",
    "'\\*\\*\\*\\*' codec can't decode ......: illegal multibyte sequence\n",
    "```\n",
    "\n",
    "编码错误，一般Windows使用GBK编码，Linux和Unix使用UTF-8编码，常见的编码有：\n",
    "\n",
    "* gbk、gb18030：国标编码，中文Windows系统很多使用该编码\n",
    "* utf-8、utf-16：统一编码，可以表示的范围包含中文，Linux和Mac一般都是用该编码\n",
    "\n",
    "为了解决这个问题，使用open函数打开文件时指定编码即可，比如：\n",
    "\n",
    "```python\n",
    "f=open('a.txt', encoding='utf-8')\n",
    "```\n",
    "\n"
   ]
  },
  {
   "cell_type": "code",
   "execution_count": null,
   "metadata": {},
   "outputs": [],
   "source": []
  }
 ],
 "metadata": {
  "kernelspec": {
   "display_name": "Python 3",
   "language": "python",
   "name": "python3"
  },
  "language_info": {
   "codemirror_mode": {
    "name": "ipython",
    "version": 3
   },
   "file_extension": ".py",
   "mimetype": "text/x-python",
   "name": "python",
   "nbconvert_exporter": "python",
   "pygments_lexer": "ipython3",
   "version": "3.6.9"
  }
 },
 "nbformat": 4,
 "nbformat_minor": 2
}
