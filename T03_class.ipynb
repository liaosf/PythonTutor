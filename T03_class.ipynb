{
 "cells": [
  {
   "cell_type": "markdown",
   "metadata": {},
   "source": [
    "# 类和对象\n",
    "\n",
    "## 类和对象介绍\n",
    "\n",
    "**类** （ **class**）是面向对象编程的基础。面向对象编程通过对客观世界和问题进行高度的抽象，极大简化了编程工作。\n",
    "\n",
    "实际上，Python语言同时支持过程式以及函数式编程，完全可以在不定义类的情况下进行编程，但是不可能不使用类：在Python中，几乎所有数据都已类的形式存在：包括我们已经频繁使用的整型、浮点型、字符串、列表等等，都是类。\n",
    "\n",
    "类是一个抽象的定义，包括了属性和方法。比如，在客观世界中，当我们提到「猫」这一类动物时时，一方面会通过品种、毛色、体重等描述猫，这些是所谓的**属性**（**property**）；而**方法**（**method**）即猫的动作，比如猫可以吃饭、喝水、爬树等各种动作。\n",
    "\n",
    "在Python中，属性即一个类中所定义的变量，而方法即类中定义的函数。在Python中，可以使用class关键字声明一个类："
   ]
  },
  {
   "cell_type": "code",
   "execution_count": 1,
   "metadata": {},
   "outputs": [
    {
     "name": "stdout",
     "output_type": "stream",
     "text": [
      "8\n",
      "9\n"
     ]
    }
   ],
   "source": [
    "class Cat:\n",
    "    weight=8\n",
    "    def get_weight(self):\n",
    "        return self.weight\n",
    "print(Cat.weight)\n",
    "Cat.weight=9\n",
    "print(Cat.weight)"
   ]
  },
  {
   "cell_type": "markdown",
   "metadata": {},
   "source": [
    "以上通过class关键字定义了一个类，名字叫做Cat。Cat类有一个属性，称为weight，默认值为8；此外还有一个方法，称为get_weight()，这个方法所做的就是返回Cat类的weight属性。\n",
    "\n",
    "以上定义的是类，经过定义后，还需要经过实例化，变成对象。注意类和对象的区别：类是一个抽象的、统一的集合，对象是类的具体化，可以具有差异性，比如："
   ]
  },
  {
   "cell_type": "code",
   "execution_count": 2,
   "metadata": {},
   "outputs": [
    {
     "name": "stdout",
     "output_type": "stream",
     "text": [
      "weight of lucas 8.5\n",
      "weight of huahua 10\n",
      "weight of cat class 8\n"
     ]
    }
   ],
   "source": [
    "class Cat:\n",
    "    weight=8\n",
    "    def get_weight(self):\n",
    "        return self.weight\n",
    "lucas=Cat()\n",
    "lucas.weight=8.5\n",
    "huahua=Cat()\n",
    "huahua.weight=10\n",
    "print(\"weight of lucas\",lucas.get_weight())\n",
    "print(\"weight of huahua\",huahua.get_weight())\n",
    "print(\"weight of cat class\",Cat.weight)"
   ]
  },
  {
   "cell_type": "markdown",
   "metadata": {},
   "source": [
    "注意以上我们使用Cat()创建了一个新的cat对象的实例，或者对象：lucas和huahua，并分别修改了他们的weight属性，接着使用get_weight()方法获得了分别的weight属性，并将其打印出来。\n",
    "\n",
    "注意对于对象的属性的修改不影响类的属性。\n",
    "\n",
    "注意以上定义过程中的self关键字。self代表这个对象本身。在定义类时，为了使得对象能够调用自身的属性、方法等，都需要使用self关键字，所以在类里面定义方法时，第一个参数都是self。\n",
    "\n",
    "此外，有的属性、方法可能只允许在类内部读写，而不允许外部读写，此时可以在属性或者方法名前面加两个下划线，比如："
   ]
  },
  {
   "cell_type": "code",
   "execution_count": 3,
   "metadata": {},
   "outputs": [
    {
     "name": "stdout",
     "output_type": "stream",
     "text": [
      "'Cat' object has no attribute '__weight'\n",
      "weight of lucas 9\n",
      "weight of lucas 8.5\n"
     ]
    }
   ],
   "source": [
    "class Cat:\n",
    "    __weight=8.5\n",
    "    def get_weight(self):\n",
    "        return self.__weight\n",
    "lucas=Cat()\n",
    "try:\n",
    "    print(\"weight of lucas\",lucas.__weight)\n",
    "except Exception as e:\n",
    "    print(e)\n",
    "lucas.__weight=9\n",
    "print(\"weight of lucas\",lucas.__weight)\n",
    "print(\"weight of lucas\",lucas.get_weight())"
   ]
  },
  {
   "cell_type": "markdown",
   "metadata": {},
   "source": [
    "从上面的运行结果中可以看到，\\_\\_weight属性在类外是看不到的，强制读取会导致错误。但是如果直接写lucas.\\_\\_weight，实际上是在lucas对象中新增了一个属性，而非内部的\\_\\_weight属性。\n",
    "\n",
    "但是如果我们调用get_weight()方法，由于该方法是类里面的成员，因而可以访问\\_\\_weight属性。\n",
    "\n",
    "最后，我们需要搞清楚在对象创建时发生了什么。以上我们使用Cat()创建了一个新的对象，但是我们实际上是没有没有创建Cat()函数的，那么这个创建是怎么执行的呢？\n",
    "\n",
    "在Cat()调用时，Python会自动搜索类中定义的两个特殊函数：\\_\\_new\\_\\_()以及\\_\\_init\\_\\_()，并分别执行他们。\\_\\_new\\_\\_()函数用于创建对象，\\_\\_init\\_\\_()用于初始化对象，称为构造函数。与之对称的，还有\\_\\_del\\_\\_()函数，即当对象被删除时使用，称为析构函数。\n",
    "\n",
    "一个例子："
   ]
  },
  {
   "cell_type": "code",
   "execution_count": 4,
   "metadata": {},
   "outputs": [
    {
     "name": "stdout",
     "output_type": "stream",
     "text": [
      "cat  Lucas  is created.\n",
      "1.2\n",
      "2.5\n"
     ]
    }
   ],
   "source": [
    "class Cat:\n",
    "    def __init__(self, name, weight=None, age=None):\n",
    "        self.name=name\n",
    "        self.__weight=weight\n",
    "        self.__age=age\n",
    "        print(\"cat \",self.name,\" is created.\")\n",
    "    def get_weight(self):\n",
    "        return self.__weight\n",
    "    def get_age(self):\n",
    "        return self.__age\n",
    "    def set_weight(self,weight):\n",
    "        self.__weight=weight\n",
    "    def set_age(self,age):\n",
    "        self.__age=age\n",
    "\n",
    "lucas=Cat('Lucas', weight=8.5, age=1.2)\n",
    "print(lucas.get_age())\n",
    "lucas.set_age(2.5)\n",
    "print(lucas.get_age())"
   ]
  },
  {
   "cell_type": "markdown",
   "metadata": {},
   "source": [
    "注意在以上代码中，在类Cat的定义中，我们额外定义了一个函数：\\_\\_init\\_\\_()函数，该函数除了self之外，还接受name, weight, age等参数。\n",
    "\n",
    "而在创建对象时，我们使用的cat()函数的参数实际上就是\\_\\_init\\_\\_()函数的参数（除了self），当Cat()执行时，会默认将参数传给\\_\\_init\\_\\_()，执行该函数并创建一个新的对象。\n",
    "\n",
    "在\\_\\_init\\_\\_()中，我们将weight和age两个参数赋值给了\\_\\_weight、\\_\\_age两个私有变量。在使用过程中，如果需要重新设置\\_\\_weight、\\_\\_age，需要使用set_weight、set_age两个函数。如果需要读取，需要使用get_weight、get_age两个函数。在面向对象编程中，类定义外不直接修改、读取属性，而是通过函数进行读取、修改是非常好的习惯。"
   ]
  },
  {
   "cell_type": "markdown",
   "metadata": {},
   "source": [
    "## 继承\n",
    "\n",
    "客观世界中有很多分类都是具有层级关系的，比如对生物的分类，就可以分门、纲、目、科、属、种，属于同一种类别的一般享有共同的特征和行为。比如，猫和虎都属于猫科动物，具有很多相同的特征，但是由于属于不同属，因而也有不同的特征。\n",
    "\n",
    "在Python中，构造一个类时，可以声明该类继承了另外一个类，比如使用：\n",
    "```python\n",
    "class Cat(Felidae):\n",
    "    pass\n",
    "```\n",
    "\n",
    "就生命了一个类Cat，该类继承了类Felidae，即Cat类现在具有所有Felidae类的属性、方法。\n",
    "\n",
    "在类的定义体中，可以使用super()函数获得其父类，因而如果我们需要调用父类的\\_\\_init\\_\\_()函数，只需要使用：super().\\_\\_init\\_\\_()就可以了。\n",
    "\n",
    "除了继承父类的所有属性和方法外，子类还可以新增属性、方法，或者重新定义父类的属性、方法。\n",
    "\n",
    "以下给出了一个例子："
   ]
  },
  {
   "cell_type": "code",
   "execution_count": 5,
   "metadata": {},
   "outputs": [
    {
     "name": "stdout",
     "output_type": "stream",
     "text": [
      "cat  Lucas  is created.\n",
      "🐀\n",
      "喵~\n",
      "2\n",
      "---------Simba---------\n",
      "cat  Simba  is created.\n",
      "🐇\n",
      "200\n"
     ]
    }
   ],
   "source": [
    "class Felidae:\n",
    "    def __init__(self, name, weight=None, age=None):\n",
    "        self.name=name\n",
    "        self.__weight=weight\n",
    "        self.__age=age\n",
    "        print(\"cat \",self.name,\" is created.\")\n",
    "    def get_weight(self):\n",
    "        return self.__weight\n",
    "    def get_age(self):\n",
    "        return self.__age\n",
    "    def set_weight(self,weight):\n",
    "        self.__weight=weight\n",
    "    def set_age(self,age):\n",
    "        self.__age=age\n",
    "    def catch(self):\n",
    "        pass\n",
    "        \n",
    "class Cat(Felidae):\n",
    "    def __init__(self, name, weight=None, age=None, color=None):\n",
    "        super().__init__(name=name, weight=weight, age=age)\n",
    "        self.color=color\n",
    "    def shout(self):\n",
    "        print(\"喵~\")\n",
    "    def catch(self):\n",
    "        print(\"\\N{rat}\")\n",
    "\n",
    "class Lion(Felidae):\n",
    "    def __init__(self, name, weight=None, age=None, sex=None):\n",
    "        super().__init__(name=name, weight=weight, age=age)\n",
    "        self.sex=sex\n",
    "    def catch(self):\n",
    "        print(\"\\N{rabbit}\")\n",
    "        \n",
    "lucas=Cat(\"Lucas\", color=\"三花\", age=2)\n",
    "lucas.catch()\n",
    "lucas.shout()\n",
    "print(lucas.get_age())\n",
    "print(\"---------Simba---------\")\n",
    "simba=Lion('Simba', sex='male', weight=200)\n",
    "simba.catch()\n",
    "print(simba.get_weight())"
   ]
  },
  {
   "cell_type": "markdown",
   "metadata": {},
   "source": [
    "在上面的代码中，我们首先定义了一个类：Felidae，接着创建了Felidae的两个子类：Cat和Lion。\n",
    "\n",
    "注意在Cat中我们定义了一个新的方法：shout()，该方法是父类Felidae中所没有的。\n",
    "\n",
    "而Cat中的color以及Lion中的sex两个属性都是其父类中没有的。\n",
    "\n",
    "此外，虽然在Felidae中定义了catch()方法，但是没有做任何操作，而在两个子类中，都重新定义了该方法。"
   ]
  }
 ],
 "metadata": {
  "kernelspec": {
   "display_name": "Python 3",
   "language": "python",
   "name": "python3"
  },
  "language_info": {
   "codemirror_mode": {
    "name": "ipython",
    "version": 3
   },
   "file_extension": ".py",
   "mimetype": "text/x-python",
   "name": "python",
   "nbconvert_exporter": "python",
   "pygments_lexer": "ipython3",
   "version": "3.7.3"
  }
 },
 "nbformat": 4,
 "nbformat_minor": 2
}
