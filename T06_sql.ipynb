{
 "cells": [
  {
   "cell_type": "markdown",
   "metadata": {},
   "source": [
    "# 数据库简介\n",
    "\n",
    "**数据库**（**database**）是目前最为成熟的数据存储、查询工具。历史上，发展最为悠久的数据库是所谓的关系型数据库，这类数据库通常依赖于**结构化查询语言**（**SQL**），典型的如MySQL、Oracle、SQLServer以及Postgresql等。\n",
    "\n",
    "而目前，随着大数据的发展，非关系型的数据库（NoSQL）也获得了蓬勃的发展，这些数据库很多都是以类似字典的键-值类型，包括MongoDB等等。\n",
    "\n",
    "在这里，我们以Python自带的SQLite为例，简单介绍SQL的用法。\n",
    "\n",
    "## Python中的SQLite\n",
    "\n",
    "在Python中，为了方便，自带了一个关系型数据库：SQLite。为了使用这个数据库，首先要将相关模块导入：\n",
    "```python\n",
    "import sqlite3\n",
    "```\n",
    "\n",
    "之后需要链接数据库。在SQLite3中，一个数据库对应于一个文件，通常以“.db”的后缀名结尾。比如，如果我们要连接一个文件名为\"test.db\"的数据库，可以使用：\n",
    "```python\n",
    "import sqlite3\n",
    "conn=sqlite3.connect('test.db')\n",
    "```\n",
    "\n",
    "就可以了，该命令会返回一个数据库的连接对象：conn。值得注意的是，与文件一样，有打开必须有关闭，在数据库使用结束后，必须使用：\n",
    "```python\n",
    "conn.close()\n",
    "```\n",
    "\n",
    "关闭数据库。\n",
    "\n",
    "此外，Python还支持打开内存数据库，内存数据库即数据库存放在内存而非硬盘上，通常用于临时数据的存储，一旦程序结束，该数据库就会消失。内存数据库使用如下方式打开：\n",
    "```python\n",
    "import sqlite3\n",
    "conn=sqlite3.connect(':memory:')\n",
    "```\n",
    "\n",
    "通常打开数据库后，conn仅仅是一个连接，并不能执行数据库操作，我们还需要**游标**（**cursor**），对数据库的操作都是使用游标完成的。为了获得游标，可以使用conn的cursor()方法：\n",
    "```python\n",
    "import sqlite3\n",
    "conn=sqlite3.connect('test.db')\n",
    "cur=conn.cursor()\n",
    "## 一些操作\n",
    "cur.close()\n",
    "conn.close()\n",
    "```\n",
    "\n",
    "同样，游标用完要记得关掉。\n",
    "\n",
    "为了执行SQL语句，一般可以使用游标的execute()方法：\n",
    "```python\n",
    "import sqlite3\n",
    "conn=sqlite3.connect('test.db')\n",
    "cur=conn.cursor()\n",
    "cur.execute(\"SQL语句\")\n",
    "#如果涉及到修改数据库，需要执行： conn.commit()\n",
    "cur.close()\n",
    "conn.close()\n",
    "```\n",
    "\n",
    "就可以执行SQL语句了。值得注意的是，在cur.execute()执行结束之后，如果涉及到对数据库的任何修改，必须使用conn.commit()提交任务，否则修改不会生效。\n",
    "\n",
    "## 表、创建表\n",
    "\n",
    "数据库是由表（table）构成的，一个数据库可以包含多个表，关系型数据库意味着不同表之间存在着紧密的联系。限于篇幅，我们在这里将不再深究表和表之间的关系，仅介绍最简单的数据库操作。\n",
    "\n",
    "对于表的操作第一个是创建表。表是一个二维结构，每一行代表一个数据，而每一列代表一个变量。在数据库的术语中，列通常称为字段。字段有其数据类型，不同数据库的数据类型差别很大，不过基本的数据类型包括：\n",
    "\n",
    "* INTEGER：整数\n",
    "* REAL：实数\n",
    "* CHAR(n)：长度为n的字符串\n",
    "* VARCHAR(n)：长度最多为n的字符串\n",
    "* TEXT：长字符串\n",
    "* DATE：日期\n",
    "* DATETIME：日期、时间\n",
    "\n",
    "\n",
    "创建表格的基本SQL命令为：\n",
    "\n",
    "```sql\n",
    "CREATE TABLE IF NOT EXISTS table_name(\n",
    "    id INTEGER PRIMARY KEY,\n",
    "    col1 INTEGER NOT NULL,\n",
    "    col2 VARCHAR(10),\n",
    "    col3 DATE,\n",
    "    col4 TEXT,\n",
    "    ......\n",
    ");\n",
    "```\n",
    "\n",
    "其中，“CREATE TABLE ”代表要创建一个表格，“IF NOT EXISTS”为如果表格不存在则创建，“table_name”为表名。接着，括号里面描述了每一个字段的数据类型和特征，其中：\n",
    "\n",
    "* PRIMARY KEY 代表主键，在一张表里面一般必须有主键，且主键是唯一识别的\n",
    "* NOT NULL 代表该字段不能为空\n",
    "* id, col1,...为字段名\n",
    "\n",
    "比如，我们可以使用如下简单的SQL语句创建一个表："
   ]
  },
  {
   "cell_type": "code",
   "execution_count": 1,
   "metadata": {},
   "outputs": [
    {
     "name": "stdout",
     "output_type": "stream",
     "text": [
      "CREATE TABLE IF NOT EXISTS player (id INTEGER PRIMARY KEY AUTOINCREMENT, name VARCHAR(500) NOT NULL,code INTEGER);\n"
     ]
    }
   ],
   "source": [
    "import sqlite3\n",
    "conn=sqlite3.connect('test.db')\n",
    "cur=conn.cursor()\n",
    "createTable=(\"CREATE TABLE IF NOT EXISTS player (\"\n",
    "             \"id INTEGER PRIMARY KEY AUTOINCREMENT, \"\n",
    "             \"name VARCHAR(500) NOT NULL,\"\n",
    "             \"code INTEGER);\")\n",
    "print(createTable)\n",
    "conn.execute(createTable)\n",
    "conn.commit()\n",
    "cur.close()\n",
    "conn.close()"
   ]
  },
  {
   "cell_type": "markdown",
   "metadata": {},
   "source": [
    "## 插入数据\n",
    "\n",
    "插入数据的基本SQL命令为：\n",
    "```sql\n",
    "INSERT INTO table_name(col1,col3,...) VALUES(?,?,...);\n",
    "```\n",
    "\n",
    "比如，如下命令可以向刚刚的表添加一行数据：\n",
    "```sql\n",
    "INSERT INTO table_name(name,code) VALUES(\"Messi\",10);\n",
    "```\n",
    "\n",
    "在Python中，cur.execute()允许如下的语法：\n",
    "```python\n",
    "cur.execute(\"INSERT INTO table_name(name,code) VALUES(?,?)\",(\"Messi\",10))\n",
    "```\n",
    "\n",
    "其中每个问号代表了后面元组的一个数据。比如："
   ]
  },
  {
   "cell_type": "code",
   "execution_count": 2,
   "metadata": {},
   "outputs": [
    {
     "name": "stdout",
     "output_type": "stream",
     "text": [
      "INSERT INTO player(name,code) VALUES(?,?)\n"
     ]
    }
   ],
   "source": [
    "player_list=[('Messi', 10), ('Xavi', 6), ('ter Stegen', 1), ('Busquets', 5), ('Pique', 3), ('Suárez', 9)]\n",
    "conn=sqlite3.connect('test.db')\n",
    "cur=conn.cursor()\n",
    "colname=['name','code']\n",
    "sql=\"INSERT INTO player(\"+','.join(colname)+\") VALUES(\"+','.join('?'*len(colname))+\")\"\n",
    "print(sql)\n",
    "for p in player_list:\n",
    "    cur.execute(sql,p)\n",
    "conn.commit()\n",
    "cur.close()\n",
    "conn.close()"
   ]
  },
  {
   "cell_type": "markdown",
   "metadata": {},
   "source": [
    "如上，我们为这个表中插入了6条数据。"
   ]
  },
  {
   "cell_type": "markdown",
   "metadata": {},
   "source": [
    "## 查询数据\n",
    "\n",
    "查询是SQL中最常用的命令。一般的语法为：\n",
    "\n",
    "```sql\n",
    "SELECT col1,col2,... FROM table_name WHERE conditions\n",
    "```\n",
    "\n",
    "比如，如果我们想要查找id=1的所有字段的数据，可以使用：\n",
    "\n",
    "```sql\n",
    "SELECT * FROM player WHERE id=1\n",
    "```\n",
    "\n",
    "或者，如果我们需要找Messi的号码，可以使用：\n",
    "```sql\n",
    "SELECT code FROM player WHERE name='Messi'\n",
    "```\n",
    "\n",
    "或者，如果我们需要找所有小于10的号码的id和姓名，可以使用：\n",
    "```sql\n",
    "SELECT id,name FROM player WHERE code<10\n",
    "```\n",
    "\n",
    "使用cursor.execute()执行以上的SQL命令之后，会返回一个可以迭代的对象，每次迭代返回一个元组，该元组为查询的结果。比如："
   ]
  },
  {
   "cell_type": "code",
   "execution_count": 3,
   "metadata": {},
   "outputs": [
    {
     "name": "stdout",
     "output_type": "stream",
     "text": [
      "id=2, name=Xavi\n",
      "id=3, name=ter Stegen\n",
      "id=4, name=Busquets\n",
      "id=5, name=Pique\n",
      "id=6, name=Suárez\n"
     ]
    }
   ],
   "source": [
    "conn=sqlite3.connect('test.db')\n",
    "cur=conn.cursor()\n",
    "colname=['name','code']\n",
    "sql=\"SELECT id,name FROM player WHERE code<10\"\n",
    "result=cur.execute(sql)\n",
    "for r in result:\n",
    "    print(\"id=%d, name=%s\" % r)\n",
    "cur.close()\n",
    "conn.close()"
   ]
  },
  {
   "cell_type": "markdown",
   "metadata": {},
   "source": [
    "或者，也可以使用fetchall()命令，返回所有结果的列表："
   ]
  },
  {
   "cell_type": "code",
   "execution_count": 4,
   "metadata": {},
   "outputs": [
    {
     "name": "stdout",
     "output_type": "stream",
     "text": [
      "[(2, 'Xavi'), (3, 'ter Stegen'), (4, 'Busquets'), (5, 'Pique'), (6, 'Suárez')]\n"
     ]
    }
   ],
   "source": [
    "conn=sqlite3.connect('test.db')\n",
    "cur=conn.cursor()\n",
    "colname=['name','code']\n",
    "sql=\"SELECT id,name FROM player WHERE code<10\"\n",
    "result=cur.execute(sql)\n",
    "print(result.fetchall())\n",
    "cur.close()\n",
    "conn.close()"
   ]
  }
 ],
 "metadata": {
  "kernelspec": {
   "display_name": "Python 3",
   "language": "python",
   "name": "python3"
  },
  "language_info": {
   "codemirror_mode": {
    "name": "ipython",
    "version": 3
   },
   "file_extension": ".py",
   "mimetype": "text/x-python",
   "name": "python",
   "nbconvert_exporter": "python",
   "pygments_lexer": "ipython3",
   "version": "3.7.3"
  }
 },
 "nbformat": 4,
 "nbformat_minor": 2
}
