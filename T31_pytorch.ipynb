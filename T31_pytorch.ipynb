{
 "cells": [
  {
   "cell_type": "markdown",
   "metadata": {},
   "source": [
    "# PyTorch入门\n",
    "\n",
    "随着神经网络，特别是深度神经网络的出现，如何使用计算机高效的完成参数量巨大的神经网络的训练就成了一个难题。为此，出现了诸如TensorFlow、PyTorch等深度学习框架。在工业界中，TensorFlow出现的早而且应用较多，而PyTorch虽然出现的晚，不过由于其与Python结合更加紧密，且具有动态图等一系列优良特性，我们在这里以PyTorch为例讲解深度学习框架的使用。\n",
    "\n",
    "在这一节中，我们首先学习PyTorch的一些基础操作。"
   ]
  },
  {
   "cell_type": "markdown",
   "metadata": {},
   "source": [
    "# Tensor的使用\n",
    "\n",
    "在机器学习中，Tensor是向量、矩阵的一个自然推广，即一个任意维的数组，比如：标量、向量（1维数组）、矩阵（2维数组）以及更高维的数组都可以看作是Tensor。\n",
    "\n",
    "## Tensor的创建\n",
    "\n",
    "在PyTorch中提供了Tensor数据类型，其使用方法与NumPy类似，但是也有一些差别。比如，为了创建一个Tensor，使用torch中的 **tensor()** 函数就可以了，这与NumPy里面的numpy.array()函数用法是一样的："
   ]
  },
  {
   "cell_type": "code",
   "execution_count": 1,
   "metadata": {},
   "outputs": [
    {
     "data": {
      "text/plain": [
       "tensor([1., 2., 3., 4.])"
      ]
     },
     "execution_count": 1,
     "metadata": {},
     "output_type": "execute_result"
    }
   ],
   "source": [
    "import torch\n",
    "a=torch.tensor([1.,2,3,4])\n",
    "a"
   ]
  },
  {
   "cell_type": "markdown",
   "metadata": {},
   "source": [
    "也可以通过NumPy的array创建："
   ]
  },
  {
   "cell_type": "code",
   "execution_count": 2,
   "metadata": {},
   "outputs": [
    {
     "data": {
      "text/plain": [
       "tensor([0.4753, 0.7013, 0.3601, 0.3240, 0.7812], dtype=torch.float64)"
      ]
     },
     "execution_count": 2,
     "metadata": {},
     "output_type": "execute_result"
    }
   ],
   "source": [
    "import numpy as np\n",
    "b=np.random.random(5)\n",
    "b_torch=torch.from_numpy(b)\n",
    "b_torch"
   ]
  },
  {
   "cell_type": "markdown",
   "metadata": {},
   "source": [
    "反过来，也可以使用Tensor的numpy()函数转化为NumPy的array，此时也是共享内存的："
   ]
  },
  {
   "cell_type": "code",
   "execution_count": 3,
   "metadata": {},
   "outputs": [
    {
     "name": "stdout",
     "output_type": "stream",
     "text": [
      "b= [1. 2. 3. 4.]\n",
      "b= [10.  2.  3.  4.]\n",
      "a= tensor([10.,  2.,  3.,  4.])\n"
     ]
    }
   ],
   "source": [
    "a=torch.tensor([1.,2,3,4])\n",
    "b=a.numpy()\n",
    "print(\"b=\",b)\n",
    "b[0]=10\n",
    "print(\"b=\",b)\n",
    "print(\"a=\",a)"
   ]
  },
  {
   "cell_type": "markdown",
   "metadata": {},
   "source": [
    "或者，使用 **Tensor()** （*注意大小写！*）需要创建的Tensor的维数，从而创建一个未初始化的tensor："
   ]
  },
  {
   "cell_type": "code",
   "execution_count": 4,
   "metadata": {},
   "outputs": [
    {
     "data": {
      "text/plain": [
       "tensor([[9.6695e-06, 3.3587e-06, 2.6284e-06],\n",
       "        [1.6689e-07, 5.4881e-05, 2.6808e-09],\n",
       "        [2.6881e-06, 1.7079e-07, 2.3905e-18],\n",
       "        [1.9421e+31, 2.7491e+20, 6.1949e-04],\n",
       "        [7.1856e+22, 4.3605e+27, 2.3329e-18],\n",
       "        [1.9284e+31, 3.2314e-18, 3.3548e-06],\n",
       "        [2.0798e+20, 1.0625e+21, 3.3242e+21],\n",
       "        [3.4014e+21, 1.3294e-08, 4.3205e-05],\n",
       "        [4.1258e-08, 2.3051e-12, 1.1495e+24],\n",
       "        [3.0881e+29, 2.5226e-18, 4.2330e+21]])"
      ]
     },
     "execution_count": 4,
     "metadata": {},
     "output_type": "execute_result"
    }
   ],
   "source": [
    "c=torch.Tensor(10,3)\n",
    "c"
   ]
  },
  {
   "cell_type": "markdown",
   "metadata": {},
   "source": [
    "使用torch.Tensor()也可以转化NumPy的array为Tensor，两者的区别是使用b=torch.from_numpy(a)函数引入时，a和b是共享内存的；而如果使用b=torch.Tensor(a)函数时，如果a的类型不是Float32，则会新建，此时可能不共享内存。"
   ]
  },
  {
   "cell_type": "code",
   "execution_count": 5,
   "metadata": {},
   "outputs": [
    {
     "data": {
      "text/plain": [
       "tensor([10.,  2.,  3.,  4.])"
      ]
     },
     "execution_count": 5,
     "metadata": {},
     "output_type": "execute_result"
    }
   ],
   "source": [
    "b_torch1=torch.Tensor(b)\n",
    "b_torch1"
   ]
  },
  {
   "cell_type": "markdown",
   "metadata": {},
   "source": [
    "注意以上新创建的Tensor的值是凌乱的，因为没有对其进行初始化，所以里面的值是完全无意义的。\n",
    "\n",
    "几乎所有的神经网络工具箱都需要支持GPU计算，而GPU计算最常用的工具是NVIDIA公司的CUDA工具箱。如果你有支持CUDA的显卡，并且配置好了CUDA，可以在创建时通过 **cuda()** 函数将Tensor放在显卡的内存（显存）中，而非内存中："
   ]
  },
  {
   "cell_type": "code",
   "execution_count": 6,
   "metadata": {},
   "outputs": [
    {
     "data": {
      "text/plain": [
       "tensor([1., 2., 3., 4.], device='cuda:0')"
      ]
     },
     "execution_count": 6,
     "metadata": {},
     "output_type": "execute_result"
    }
   ],
   "source": [
    "if torch.cuda.is_available():\n",
    "    ac=torch.tensor([1.,2,3,4]).cuda()\n",
    "ac"
   ]
  },
  {
   "cell_type": "markdown",
   "metadata": {},
   "source": [
    "其中我们使用了“torch.cuda.is_available()”来判断计算机上是否有GPU和CUDA可用。上面的结果除了展示了Tensor的取值之外，还有一个 *device='cuda:0'* ，显示了这个Tensor所出的CUDA设备编号为0。如果有不止一块GPU，可以在括号中加入数字（从0开始计数），指定将其放在哪一块GPU上。\n",
    "\n",
    "我们可以使用cup()函数和cuda()函数在两者之间转换："
   ]
  },
  {
   "cell_type": "code",
   "execution_count": 7,
   "metadata": {},
   "outputs": [
    {
     "data": {
      "text/plain": [
       "tensor([1., 2., 3., 4.])"
      ]
     },
     "execution_count": 7,
     "metadata": {},
     "output_type": "execute_result"
    }
   ],
   "source": [
    "ac_cpu=ac.cpu()\n",
    "ac_cpu"
   ]
  },
  {
   "cell_type": "markdown",
   "metadata": {},
   "source": [
    "另一种直接将Tensor放到GPU中的方法是在创建Tensor时直接指定其所处的device，比如："
   ]
  },
  {
   "cell_type": "code",
   "execution_count": 8,
   "metadata": {},
   "outputs": [
    {
     "data": {
      "text/plain": [
       "tensor([0., 1.], device='cuda:0')"
      ]
     },
     "execution_count": 8,
     "metadata": {},
     "output_type": "execute_result"
    }
   ],
   "source": [
    "gpu_tensor=torch.tensor([0.,1],device=0)\n",
    "gpu_tensor"
   ]
  },
  {
   "cell_type": "markdown",
   "metadata": {},
   "source": [
    "接下来介绍的创建Tensor的函数也都支持这种创建方法，特别是如果该Tensor需要被求导，一定要使用这种方法进行创建。"
   ]
  },
  {
   "cell_type": "markdown",
   "metadata": {},
   "source": [
    "在这里值得一提的是Tensor的数据类型。在PyTorch中，Tensor有如下数据类型可以使用：\n",
    "* 浮点类型\n",
    "  * torch.FloatTensor（torch.cuda.FloatTensor）: 32位浮点型\n",
    "  * torch.DoubleTensor（torch.cuda.DoubleTensor）: 64位浮点型\n",
    "  * （torch.cuda.HalfTensor）: 16位浮点型\n",
    "* 整型\n",
    "  * torch.IntTensor（torch.cuda.IntTensor）: 32位整型\n",
    "  * torch.LongTensor（torch.cuda.LongTensor）: 64位整型\n",
    "  * torch.ShortTensor（torch.cuda.ShortTensor）: 16位整型\n",
    "  * torch.ByteTensor（torch.cuda.ByteTensor）：8位无符号整型\n",
    "  * torch.CharTensor（torch.cuda.CharTensor）：8位有符号整型\n",
    "  \n",
    "其中括号里面表示的是在CUDA中的类型。\n",
    "\n",
    "不管是在CPU上还是GPU上，位数更小的类型总是需要更少的内存（显存），并且具有更高的计算速度。然而位数更小的类型可能具有更差的精度或者更高的误差（特别是对于浮点类型）、更小的表示范围（特别是对于整数类型），所以在创建Tensor时可以按照需求指定类型。\n",
    "\n",
    "我们可以使用Tensor.type()函数展示其类型："
   ]
  },
  {
   "cell_type": "code",
   "execution_count": 9,
   "metadata": {},
   "outputs": [
    {
     "name": "stdout",
     "output_type": "stream",
     "text": [
      "torch.cuda.FloatTensor\n",
      "torch.FloatTensor\n"
     ]
    }
   ],
   "source": [
    "print(ac.type())\n",
    "print(c.type())"
   ]
  },
  {
   "cell_type": "markdown",
   "metadata": {},
   "source": [
    "根据上面的输出可以知道，默认的类型是32位浮点型，我们可以使用double()（以及float(), int(), long(), short()等）将其换为64位浮点型："
   ]
  },
  {
   "cell_type": "code",
   "execution_count": 10,
   "metadata": {},
   "outputs": [
    {
     "name": "stdout",
     "output_type": "stream",
     "text": [
      "torch.cuda.DoubleTensor\n"
     ]
    },
    {
     "data": {
      "text/plain": [
       "tensor([1., 2., 3., 4.], device='cuda:0', dtype=torch.float64)"
      ]
     },
     "execution_count": 10,
     "metadata": {},
     "output_type": "execute_result"
    }
   ],
   "source": [
    "ac_64=ac.double()\n",
    "print(ac_64.type())\n",
    "ac_64"
   ]
  },
  {
   "cell_type": "markdown",
   "metadata": {},
   "source": [
    "也可以使用type_as()方法产生相同类型的Tensor："
   ]
  },
  {
   "cell_type": "code",
   "execution_count": 11,
   "metadata": {},
   "outputs": [
    {
     "name": "stdout",
     "output_type": "stream",
     "text": [
      "e的类型： torch.LongTensor\n",
      "e_64的类型： torch.DoubleTensor\n",
      "tensor([1, 2, 3])\n",
      "tensor([1., 2., 3.], dtype=torch.float64)\n"
     ]
    }
   ],
   "source": [
    "d=c.double()\n",
    "e=torch.tensor([1,2,3])\n",
    "print(\"e的类型：\", e.type())\n",
    "e_64=e.type_as(d)\n",
    "print(\"e_64的类型：\", e_64.type())\n",
    "print(e)\n",
    "print(e_64)"
   ]
  },
  {
   "cell_type": "markdown",
   "metadata": {},
   "source": [
    "如果需要改变所有的默认类型，可以使用torch.set_default_tensor_type()函数，比如："
   ]
  },
  {
   "cell_type": "code",
   "execution_count": 12,
   "metadata": {},
   "outputs": [
    {
     "name": "stdout",
     "output_type": "stream",
     "text": [
      "torch.FloatTensor\n",
      "torch.DoubleTensor\n"
     ]
    }
   ],
   "source": [
    "a=torch.tensor([1.,2,3,4])\n",
    "print(a.type())\n",
    "torch.set_default_tensor_type(\"torch.DoubleTensor\")\n",
    "a=torch.tensor([1.,2,3,4])\n",
    "print(a.type())"
   ]
  },
  {
   "cell_type": "markdown",
   "metadata": {},
   "source": [
    "一般而言，32位的浮点数已经足够用了，用Double会比较慢，特别是涉及到神经网络中大规模的计算，使用Double的计算开销比较大，所以不妨换回去："
   ]
  },
  {
   "cell_type": "code",
   "execution_count": 13,
   "metadata": {},
   "outputs": [],
   "source": [
    "torch.set_default_tensor_type(\"torch.FloatTensor\")"
   ]
  },
  {
   "cell_type": "markdown",
   "metadata": {},
   "source": [
    "与NumPy类似，PyTorch也有很多创建特殊Tensor的方法，比如：\n",
    "\n",
    "* 全为0的Tensor：torch.zeors()\n",
    "* 全为1的Tensor：torch.ones()\n",
    "* 单位阵：torch.eye()\n",
    "* U(0,1)的随机数：torch.rand()\n",
    "* 标准正态分布的随机数：torch.randn()\n",
    "* 从start到end，步长为step：torch.arange(start,end,step)\n",
    "* 从start到end，切成m份：torch.linspace(start,end,m)\n",
    "* 从10^start到10^end，切成m份：torch.linspace(start,end,m)\n",
    "* 随机排列：torch.randperm(m)\n",
    "\n",
    "比如："
   ]
  },
  {
   "cell_type": "code",
   "execution_count": 14,
   "metadata": {},
   "outputs": [
    {
     "name": "stdout",
     "output_type": "stream",
     "text": [
      "维数为5-by-4的全为0的矩阵：\n",
      " tensor([[0., 0., 0., 0.],\n",
      "        [0., 0., 0., 0.],\n",
      "        [0., 0., 0., 0.],\n",
      "        [0., 0., 0., 0.],\n",
      "        [0., 0., 0., 0.]])\n",
      "维数为5-by-4的全为1的矩阵：\n",
      " tensor([[1., 1., 1., 1.],\n",
      "        [1., 1., 1., 1.],\n",
      "        [1., 1., 1., 1.],\n",
      "        [1., 1., 1., 1.],\n",
      "        [1., 1., 1., 1.]])\n",
      "维数为5-by-4的单位阵：\n",
      " tensor([[1., 0., 0., 0.],\n",
      "        [0., 1., 0., 0.],\n",
      "        [0., 0., 1., 0.],\n",
      "        [0., 0., 0., 1.],\n",
      "        [0., 0., 0., 0.]])\n",
      "维数为5-by-4的(0,1)上均匀分布随机数矩阵：\n",
      " tensor([[0.0398, 0.0015, 0.2176, 0.6903],\n",
      "        [0.4618, 0.0633, 0.2524, 0.3810],\n",
      "        [0.7230, 0.5806, 0.1054, 0.1939],\n",
      "        [0.3060, 0.1693, 0.0333, 0.2141],\n",
      "        [0.4956, 0.3173, 0.8018, 0.8543]])\n",
      "维数为5-by-4的标准正态分布矩阵：\n",
      " tensor([[-0.5952,  0.6960,  0.5877, -2.1240],\n",
      "        [-1.6275, -0.9078,  0.6191,  1.7645],\n",
      "        [ 0.5841,  0.4594,  1.4180, -1.0346],\n",
      "        [-1.1904, -0.4729, -0.3026, -0.5668],\n",
      "        [-1.4238,  1.5555, -1.0722, -1.7910]])\n",
      "从1到10，步长为2：\n",
      " tensor([1, 3, 5, 7, 9])\n",
      "从1到10，4等分（5个数字）：：\n",
      " tensor([ 1.0000,  3.2500,  5.5000,  7.7500, 10.0000])\n",
      "从10^1到10^3，4等分（5个数字）：：\n",
      " tensor([   1.0000,    5.6234,   31.6228,  177.8279, 1000.0000])\n",
      "0-9共10个数字的随机排列：\n",
      " tensor([1, 8, 5, 2, 0, 6, 7, 4, 9, 3])\n"
     ]
    }
   ],
   "source": [
    "a=torch.zeros(5,4)\n",
    "print(\"维数为5-by-4的全为0的矩阵：\\n\",a)\n",
    "b=torch.ones(5,4)\n",
    "print(\"维数为5-by-4的全为1的矩阵：\\n\",b)\n",
    "c=torch.eye(5,4)\n",
    "print(\"维数为5-by-4的单位阵：\\n\",c)\n",
    "d=torch.rand(5,4)\n",
    "print(\"维数为5-by-4的(0,1)上均匀分布随机数矩阵：\\n\",d)\n",
    "e=torch.randn(5,4)\n",
    "print(\"维数为5-by-4的标准正态分布矩阵：\\n\",e)\n",
    "f=torch.arange(1,10,2)\n",
    "print(\"从1到10，步长为2：\\n\",f)\n",
    "g=torch.linspace(1,10,5)\n",
    "print(\"从1到10，4等分（5个数字）：：\\n\",g)\n",
    "h=torch.logspace(0,3,5)\n",
    "print(\"从10^1到10^3，4等分（5个数字）：：\\n\",h)\n",
    "i=torch.randperm(10)\n",
    "print(\"0-9共10个数字的随机排列：\\n\",i)"
   ]
  },
  {
   "cell_type": "markdown",
   "metadata": {},
   "source": [
    "此外，还可以使用如下命令产生形状相同的Tensor：\n",
    "\n",
    "* 创建与T形状相同的全为1的Tensor：torch.ones_like(T)\n",
    "* 创建与T形状相同的全为0的Tensor：torch.zeros_like(T)"
   ]
  },
  {
   "cell_type": "code",
   "execution_count": 15,
   "metadata": {},
   "outputs": [
    {
     "name": "stdout",
     "output_type": "stream",
     "text": [
      "与i形状相同的全为1的Tensor：\n",
      " tensor([1, 1, 1, 1, 1, 1, 1, 1, 1, 1])\n",
      "与g形状相同的全为0的Tensor：\n",
      " tensor([0., 0., 0., 0., 0.])\n"
     ]
    }
   ],
   "source": [
    "j=torch.ones_like(i)\n",
    "print(\"与i形状相同的全为1的Tensor：\\n\",j)\n",
    "k=torch.zeros_like(g)\n",
    "print(\"与g形状相同的全为0的Tensor：\\n\",k)"
   ]
  },
  {
   "cell_type": "markdown",
   "metadata": {},
   "source": [
    "与NumPy类似，对于一个Tensor，可以通过shape、size等属性和方法查看Tensor的形状，但是值得注意的是PyTorch的方法、属性与NumPy略有区别："
   ]
  },
  {
   "cell_type": "code",
   "execution_count": 16,
   "metadata": {},
   "outputs": [
    {
     "name": "stdout",
     "output_type": "stream",
     "text": [
      "np_a=\n",
      " [[0.96593691 0.86993376 0.04319342 0.46267977 0.67113255 0.51128105]\n",
      " [0.87260288 0.31239106 0.13933025 0.44147777 0.35791533 0.59874868]\n",
      " [0.61520683 0.45764158 0.03255649 0.00222109 0.99508862 0.1632313 ]\n",
      " [0.12684846 0.84022955 0.93952902 0.14340545 0.50993294 0.38102853]\n",
      " [0.25442371 0.30514708 0.99653146 0.8603856  0.06453467 0.44847887]]\n",
      "np_a的维度： 2\n",
      "np_a的形状： (5, 6)\n",
      "np_a的长度： 30\n"
     ]
    }
   ],
   "source": [
    "import numpy as np\n",
    "\n",
    "np_a=np.random.random((5,6))\n",
    "print(\"np_a=\\n\",np_a)\n",
    "print(\"np_a的维度：\",np_a.ndim)\n",
    "print(\"np_a的形状：\",np_a.shape)\n",
    "print(\"np_a的长度：\",np_a.size)"
   ]
  },
  {
   "cell_type": "code",
   "execution_count": 17,
   "metadata": {},
   "outputs": [
    {
     "name": "stdout",
     "output_type": "stream",
     "text": [
      "a=\n",
      " [[0.96593691 0.86993376 0.04319342 0.46267977 0.67113255 0.51128105]\n",
      " [0.87260288 0.31239106 0.13933025 0.44147777 0.35791533 0.59874868]\n",
      " [0.61520683 0.45764158 0.03255649 0.00222109 0.99508862 0.1632313 ]\n",
      " [0.12684846 0.84022955 0.93952902 0.14340545 0.50993294 0.38102853]\n",
      " [0.25442371 0.30514708 0.99653146 0.8603856  0.06453467 0.44847887]]\n",
      "a的维度： 2\n",
      "a的形状： torch.Size([5, 4])\n",
      "a的长度： torch.Size([5, 4])\n",
      "a的元素的个数： 20\n"
     ]
    }
   ],
   "source": [
    "print(\"a=\\n\",np_a)\n",
    "print(\"a的维度：\",a.dim())\n",
    "print(\"a的形状：\",a.shape)\n",
    "print(\"a的长度：\",a.size())\n",
    "print(\"a的元素的个数：\",a.numel())"
   ]
  },
  {
   "cell_type": "markdown",
   "metadata": {},
   "source": [
    "可以发现：\n",
    "\n",
    "* NumPy中array的ndim, shape, size都是属性\n",
    "* PyTorch中Tensor的dim(), size()都是函数，shape为属性\n",
    "* NumPy中size代表元素的个数，而PyTorch中Tensor元素的个数是使用numel()方法。"
   ]
  },
  {
   "cell_type": "markdown",
   "metadata": {},
   "source": [
    "## 索引、视图与形状调整与\n",
    "\n",
    "与NumPy类似，Tensor也可以通过切片等操作产生Tensor的视图（view），与NumPy一样，视图并不会对Tensor进行复制，仅仅是一个引用。与NumPy类似，可以使用切片操作："
   ]
  },
  {
   "cell_type": "code",
   "execution_count": 18,
   "metadata": {},
   "outputs": [
    {
     "name": "stdout",
     "output_type": "stream",
     "text": [
      "a= tensor([1, 2, 3, 4])\n",
      "b= tensor([1, 2])\n",
      "b= tensor([3, 2])\n",
      "a= tensor([3, 2, 3, 4])\n"
     ]
    }
   ],
   "source": [
    "a=torch.tensor([1,2,3,4])\n",
    "print(\"a=\",a)\n",
    "b=a[0:2]\n",
    "print(\"b=\",b)\n",
    "b[0]=3\n",
    "print(\"b=\",b)\n",
    "print(\"a=\",a)"
   ]
  },
  {
   "cell_type": "markdown",
   "metadata": {},
   "source": [
    "跟NumPy类似的是，也可以使用掩码操作，不过掩码操作所创建的是一个拷贝，而非视图："
   ]
  },
  {
   "cell_type": "code",
   "execution_count": 19,
   "metadata": {},
   "outputs": [
    {
     "name": "stdout",
     "output_type": "stream",
     "text": [
      "a= tensor([1, 2, 3, 4])\n",
      "c= tensor([3, 4])\n",
      "c= tensor([3, 5])\n",
      "a= tensor([1, 2, 3, 4])\n",
      "b= tensor([3, 2])\n"
     ]
    }
   ],
   "source": [
    "a=torch.tensor([1,2,3,4])\n",
    "print(\"a=\",a)\n",
    "c=a[a>=3]\n",
    "print(\"c=\",c)\n",
    "c[-1]=5\n",
    "print(\"c=\",c)\n",
    "print(\"a=\",a)\n",
    "print(\"b=\",b)"
   ]
  },
  {
   "cell_type": "markdown",
   "metadata": {},
   "source": [
    "如果需要调整Tensor的形状，可以使用Tensor的view()函数以及reshape()方法，其中view()和reshape()接受的参数为修改后的形状，区别在于view()一定会创建视图，而reshape()则不一定，也可能创建原Tensor的拷贝。"
   ]
  },
  {
   "cell_type": "code",
   "execution_count": 20,
   "metadata": {},
   "outputs": [
    {
     "name": "stdout",
     "output_type": "stream",
     "text": [
      "a= tensor([1, 2, 3, 4])\n",
      "b=\n",
      " tensor([[1, 2],\n",
      "        [3, 4]])\n",
      "c=\n",
      " tensor([[1, 2],\n",
      "        [3, 4]])\n",
      "现在对b重新赋值\n",
      "a= tensor([1, 2, 3, 4])\n",
      "b=\n",
      " tensor([[1, 2],\n",
      "        [3, 4]])\n",
      "c=\n",
      " tensor([[1, 2],\n",
      "        [3, 4]])\n"
     ]
    }
   ],
   "source": [
    "a=torch.tensor([1,2,3,4])\n",
    "print(\"a=\",a)\n",
    "b=a.view(2,2)\n",
    "print(\"b=\\n\",b)\n",
    "c=a.reshape(2,2)\n",
    "print(\"c=\\n\",c)\n",
    "print(\"现在对b重新赋值\")\n",
    "b[0,0]=1\n",
    "print(\"a=\",a)\n",
    "print(\"b=\\n\",b)\n",
    "print(\"c=\\n\",c)"
   ]
  },
  {
   "cell_type": "markdown",
   "metadata": {},
   "source": [
    "也可以使用torch.reshape()函数："
   ]
  },
  {
   "cell_type": "code",
   "execution_count": 21,
   "metadata": {},
   "outputs": [
    {
     "name": "stdout",
     "output_type": "stream",
     "text": [
      "a= tensor([5, 2, 3, 4])\n",
      "d=\n",
      " tensor([[5, 2],\n",
      "        [3, 4]])\n"
     ]
    }
   ],
   "source": [
    "d=torch.reshape(a,(2,2))\n",
    "d[0,0]=5\n",
    "print(\"a=\",a)\n",
    "print(\"d=\\n\",d)"
   ]
  },
  {
   "cell_type": "markdown",
   "metadata": {},
   "source": [
    "形状也可以使用-1来描述，当使用-1时，自动计算该维度的大小："
   ]
  },
  {
   "cell_type": "code",
   "execution_count": 22,
   "metadata": {},
   "outputs": [
    {
     "name": "stdout",
     "output_type": "stream",
     "text": [
      "a= tensor([1, 2, 3, 4, 5, 6])\n",
      "b=\n",
      " tensor([[1, 2],\n",
      "        [3, 4],\n",
      "        [5, 6]])\n"
     ]
    }
   ],
   "source": [
    "a=torch.tensor([1,2,3,4,5,6])\n",
    "print(\"a=\",a)\n",
    "b=a.view(-1,2)\n",
    "print(\"b=\\n\",b)"
   ]
  },
  {
   "cell_type": "markdown",
   "metadata": {},
   "source": [
    "可以使用该特性将Tensor转化为向量："
   ]
  },
  {
   "cell_type": "code",
   "execution_count": 23,
   "metadata": {},
   "outputs": [
    {
     "name": "stdout",
     "output_type": "stream",
     "text": [
      "a=\n",
      " tensor([[1, 2, 3],\n",
      "        [4, 5, 6]])\n",
      "b=\n",
      " tensor([1, 2, 3, 4, 5, 6])\n"
     ]
    }
   ],
   "source": [
    "a=torch.tensor([[1,2,3],[4,5,6]])\n",
    "print(\"a=\\n\",a)\n",
    "b=a.view(-1)\n",
    "print(\"b=\\n\",b)"
   ]
  },
  {
   "cell_type": "markdown",
   "metadata": {},
   "source": [
    "此外还可以使用squeeze()和unsqueeze()方法对某一个维度压缩一个1或者增加一个1，比如如下的Tensor中，第0个维度的个数为1，可以使用squeeze()方法删掉这个维度："
   ]
  },
  {
   "cell_type": "code",
   "execution_count": 24,
   "metadata": {},
   "outputs": [
    {
     "name": "stdout",
     "output_type": "stream",
     "text": [
      "tensor([[1, 2, 3, 4, 5, 6]])\n",
      "torch.Size([1, 6])\n"
     ]
    },
    {
     "data": {
      "text/plain": [
       "tensor([1, 2, 3, 4, 5, 6])"
      ]
     },
     "execution_count": 24,
     "metadata": {},
     "output_type": "execute_result"
    }
   ],
   "source": [
    "a=torch.tensor([[1,2,3,4,5,6]])\n",
    "print(a)\n",
    "print(a.shape)\n",
    "b=a.squeeze(0)\n",
    "b"
   ]
  },
  {
   "cell_type": "markdown",
   "metadata": {},
   "source": [
    "反过来也可以在指定维度上增加一个维度："
   ]
  },
  {
   "cell_type": "code",
   "execution_count": 25,
   "metadata": {},
   "outputs": [
    {
     "name": "stdout",
     "output_type": "stream",
     "text": [
      "tensor([1, 2, 3, 4, 5, 6])\n",
      "torch.Size([6])\n"
     ]
    },
    {
     "data": {
      "text/plain": [
       "tensor([[1],\n",
       "        [2],\n",
       "        [3],\n",
       "        [4],\n",
       "        [5],\n",
       "        [6]])"
      ]
     },
     "execution_count": 25,
     "metadata": {},
     "output_type": "execute_result"
    }
   ],
   "source": [
    "a=torch.tensor([1,2,3,4,5,6])\n",
    "print(a)\n",
    "print(a.shape)\n",
    "b=a.unsqueeze(1)\n",
    "b"
   ]
  },
  {
   "cell_type": "markdown",
   "metadata": {},
   "source": [
    "## Tensor的计算\n",
    "\n",
    "与NumPy类似，Tensor也有很多计算功能，这与我们之前所学的NumPy几乎是相同的。\n",
    "\n",
    "一个与NumPy有点区别的地方是，在Tensor中，很多运算函数都有带下划线的版本，比如Tensor的add()方法同样有add_()方法，两者的区别在于：\n",
    "\n",
    "* 使用a.add(b)会返回计算结果a+b，而不改变a\n",
    "* 使用a.add_()会改变a，计算结束后a=a+b\n",
    "\n",
    "比如："
   ]
  },
  {
   "cell_type": "code",
   "execution_count": 26,
   "metadata": {},
   "outputs": [
    {
     "name": "stdout",
     "output_type": "stream",
     "text": [
      "c= tensor([5, 7, 9])\n",
      "a= tensor([1, 2, 3])\n",
      "c= tensor([5, 7, 9])\n",
      "a= tensor([1, 2, 3])\n",
      "a= tensor([5, 7, 9])\n"
     ]
    }
   ],
   "source": [
    "a=torch.tensor([1,2,3])\n",
    "b=torch.tensor([4,5,6])\n",
    "c=a+b\n",
    "print(\"c=\",c)\n",
    "print(\"a=\",a)\n",
    "c=a.add(b)\n",
    "print(\"c=\",c)\n",
    "print(\"a=\",a)\n",
    "a.add_(b)\n",
    "print(\"a=\",a)"
   ]
  },
  {
   "cell_type": "markdown",
   "metadata": {},
   "source": [
    "PyTorch中支持NumPy中支持的很多运算，比如：\n",
    "\n",
    "* 逐元素的算数运算\n",
    "  * 加（+,add()）\n",
    "  * 减（-,sub()）\n",
    "  * 乘（*,mul()）\n",
    "  * 除（/,div()）\n",
    "  * 取反（-，neg()）\n",
    "* 比较运算\n",
    "  * 大于（>,gt()）、大于等于（>=,ge()）、小于（<,lt()）、小于等于（>,le()）\n",
    "  * 等于（==, eq()）、不等于（!=,ne()）\n",
    "  * 排序：sort()\n",
    "  * 最大值（max()）、最小值（min()）\n",
    "  * 最大的k个数：topk()\n",
    "* 函数运算\n",
    "  * 绝对值（abs()）、平方根（sqrt()）\n",
    "  * 三角函数：sin(), cos(), asin(), tan(), atan(), cosh(), tanh().....\n",
    "  * 向上取整（ceil()）、向下取整（floor()）、四舍五入（round()）、取整数部分（trunc()）、取余（fmod()）、符号函数（sign()）\n",
    "  * 指数（exp()）、对数（log()）\n",
    "  * 激活函数\n",
    "    * sigmoid()\n",
    "    * tanh()\n",
    "    * softmax()\n",
    "* 归并函数\n",
    "  * 均值（mean()）、求和（sum()）、中位数（median()）、众数（mode()）\n",
    "  * 标准差（std()）、方差（var()）\n",
    "  * 范数（norm()）、距离（dist()）\n",
    "  * 累加（cumsum()）、累乘（cumprod()）\n",
    "* 矩阵运算\n",
    "  * 内积（dot()）、外积（cross()）\n",
    "  * 转置（t()）\n",
    "  * 矩阵乘法（mm()）\n",
    "  * 矩阵与向量乘法（mv()）\n",
    "  * 迹（trace()）\n",
    "  * 求逆（inverse()）\n",
    "  * 对角线元素（diag()）\n",
    "  * 奇异值分解（svd()）\n",
    "  \n",
    "等等非常多的运算。\n",
    "\n",
    "比如："
   ]
  },
  {
   "cell_type": "code",
   "execution_count": 27,
   "metadata": {},
   "outputs": [
    {
     "name": "stdout",
     "output_type": "stream",
     "text": [
      "---\n",
      "a+b=\n",
      " tensor([ 3., 11., 18.])\n",
      "---\n",
      "a/b=\n",
      " tensor([0.5000, 0.2222, 1.2500])\n",
      "---\n",
      "a>=b\n",
      " tensor([False, False,  True])\n",
      "---\n",
      "b.sort()=\n",
      " torch.return_types.sort(\n",
      "values=tensor([2., 8., 9.]),\n",
      "indices=tensor([0, 2, 1]))\n",
      "---\n",
      "torch.max(a,b)=\n",
      " tensor([ 2.,  9., 10.])\n",
      "---\n",
      "b.max()=\n",
      " tensor(9.)\n",
      "---\n",
      "b.topk(2)=\n",
      " torch.return_types.topk(\n",
      "values=tensor([9., 8.]),\n",
      "indices=tensor([1, 2]))\n",
      "---\n",
      "torch.sqrt(b)=\n",
      " tensor([1.4142, 3.0000, 2.8284])\n",
      "---\n",
      "torch.sigmoid(b)=\n",
      " tensor([0.8808, 0.9999, 0.9997])\n",
      "---\n",
      "a.sum()=\n",
      " tensor(13.)\n",
      "---\n",
      "a.std()=\n",
      " tensor(4.9329)\n",
      "---\n",
      "a.norm(2)=\n",
      " tensor(10.2470)\n",
      "---\n",
      "torch.dist(a,b,2)=\n",
      " tensor(7.3485)\n",
      "---\n",
      "a.cumsum()=\n",
      " tensor([ 1.,  3., 13.])\n"
     ]
    }
   ],
   "source": [
    "a=torch.tensor([1.,2,10])\n",
    "b=torch.tensor([2.,9,8])\n",
    "print(\"---\\na+b=\\n\",a+b)\n",
    "print(\"---\\na/b=\\n\",a/b)\n",
    "print(\"---\\na>=b\\n\",a>=b)\n",
    "print(\"---\\nb.sort()=\\n\",b.sort())\n",
    "print(\"---\\ntorch.max(a,b)=\\n\",torch.max(a,b))\n",
    "print(\"---\\nb.max()=\\n\",b.max())\n",
    "print(\"---\\nb.topk(2)=\\n\",b.topk(2))\n",
    "print(\"---\\ntorch.sqrt(b)=\\n\",torch.sqrt(b))\n",
    "print(\"---\\ntorch.sigmoid(b)=\\n\",torch.sigmoid(b))\n",
    "print(\"---\\na.sum()=\\n\",a.sum())\n",
    "print(\"---\\na.std()=\\n\",a.std())\n",
    "print(\"---\\na.norm(2)=\\n\",a.norm(2))\n",
    "print(\"---\\ntorch.dist(a,b,2)=\\n\",torch.dist(a,b,2))\n",
    "print(\"---\\na.cumsum()=\\n\",a.cumsum(0))"
   ]
  },
  {
   "cell_type": "code",
   "execution_count": 28,
   "metadata": {},
   "outputs": [
    {
     "name": "stdout",
     "output_type": "stream",
     "text": [
      "a=\n",
      " tensor([[1., 2., 3.],\n",
      "        [5., 6., 4.],\n",
      "        [8., 1., 0.]])\n",
      "b=\n",
      " tensor([[ 2.,  4.,  3.],\n",
      "        [ 5.,  7.,  1.],\n",
      "        [ 8., 10.,  2.]])\n",
      "c=\n",
      " tensor([1., 2., 3.])\n",
      "---\n",
      "a+b=\n",
      " tensor([[ 3.,  6.,  6.],\n",
      "        [10., 13.,  5.],\n",
      "        [16., 11.,  2.]])\n",
      "---\n",
      "torch.exp(a)=\n",
      " tensor([[2.7183e+00, 7.3891e+00, 2.0086e+01],\n",
      "        [1.4841e+02, 4.0343e+02, 5.4598e+01],\n",
      "        [2.9810e+03, 2.7183e+00, 1.0000e+00]])\n",
      "---\n",
      "a.diag()=\n",
      " tensor([1., 6., 0.])\n",
      "---\n",
      "a.t()=\n",
      " tensor([[1., 5., 8.],\n",
      "        [2., 6., 1.],\n",
      "        [3., 4., 0.]])\n",
      "---\n",
      "torch.dot(c,d)=\n",
      " tensor(10.)\n",
      "---\n",
      "torch.mm(a,b)=\n",
      " tensor([[ 36.,  48.,  11.],\n",
      "        [ 72., 102.,  29.],\n",
      "        [ 21.,  39.,  25.]])\n",
      "---\n",
      "a.mm(b)=\n",
      " tensor([[ 36.,  48.,  11.],\n",
      "        [ 72., 102.,  29.],\n",
      "        [ 21.,  39.,  25.]])\n",
      "---\n",
      "a.trace()= tensor(7.)\n",
      "---\n",
      "a.inverse()= tensor([[ 0.0580, -0.0435,  0.1449],\n",
      "        [-0.4638,  0.3478, -0.1594],\n",
      "        [ 0.6232, -0.2174,  0.0580]])\n",
      "---\n",
      "a.mm(a.inverse())= tensor([[1.0000e+00, 2.9802e-08, 0.0000e+00],\n",
      "        [0.0000e+00, 1.0000e+00, 0.0000e+00],\n",
      "        [0.0000e+00, 0.0000e+00, 1.0000e+00]])\n",
      "---\n",
      "torch.mv(a,c)=\n",
      " tensor([14., 29., 10.])\n",
      "---\n",
      "torch.mv(a.t(),c)=\n",
      " tensor([35., 17., 11.])\n"
     ]
    }
   ],
   "source": [
    "a=torch.tensor([[1.,2,3],[5,6,4],[8,1,0]])\n",
    "b=torch.tensor([[2.,4,3],[5,7,1],[8,10,2]])\n",
    "c=torch.tensor([1,2,3.])\n",
    "d=torch.tensor([3,2,1.])\n",
    "print(\"a=\\n\",a)\n",
    "print(\"b=\\n\",b)\n",
    "print(\"c=\\n\",c)\n",
    "print(\"---\\na+b=\\n\",a+b)\n",
    "print(\"---\\ntorch.exp(a)=\\n\",torch.exp(a))\n",
    "print(\"---\\na.diag()=\\n\",a.diag())\n",
    "print(\"---\\na.t()=\\n\",a.t())\n",
    "print(\"---\\ntorch.dot(c,d)=\\n\",torch.dot(c,d))\n",
    "print(\"---\\ntorch.mm(a,b)=\\n\",torch.mm(a,b))\n",
    "print(\"---\\na.mm(b)=\\n\",a.mm(b))\n",
    "print(\"---\\na.trace()=\",a.trace())\n",
    "print(\"---\\na.inverse()=\",a.inverse())\n",
    "print(\"---\\na.mm(a.inverse())=\",a.mm(a.inverse()))\n",
    "print(\"---\\ntorch.mv(a,c)=\\n\",torch.mv(a,c))\n",
    "print(\"---\\ntorch.mv(a.t(),c)=\\n\",torch.mv(a.t(),c))"
   ]
  },
  {
   "cell_type": "markdown",
   "metadata": {},
   "source": [
    "最后，还记得如果我们使用torch.from_numpy()函数和Tensor的numpy()函数在NumPy的array和PyTorch的Tensor之间转换，内存是共享的，转换速度很快，可以直接进行操作而付出较小的性能代价："
   ]
  },
  {
   "cell_type": "code",
   "execution_count": 29,
   "metadata": {},
   "outputs": [
    {
     "name": "stdout",
     "output_type": "stream",
     "text": [
      "a=\n",
      " tensor([[1., 2., 3.],\n",
      "        [5., 6., 4.],\n",
      "        [8., 1., 0.]])\n",
      "b=\n",
      " tensor([[ 2.,  4.,  3.],\n",
      "        [ 5.,  7.,  1.],\n",
      "        [ 8., 10.,  2.]])\n",
      "c=\n",
      " tensor([[ 36.,  48.,  11.],\n",
      "        [ 72., 102.,  29.],\n",
      "        [ 21.,  39.,  25.]])\n",
      "c_np=\n",
      " [[ 36.  48.  11.]\n",
      " [ 72. 102.  29.]\n",
      " [ 21.  39.  25.]]\n"
     ]
    }
   ],
   "source": [
    "a=torch.tensor([[1.,2,3],[5,6,4],[8,1,0]])\n",
    "b=torch.tensor([[2.,4,3],[5,7,1],[8,10,2]])\n",
    "print(\"a=\\n\",a)\n",
    "print(\"b=\\n\",b)\n",
    "a_np=a.numpy()\n",
    "b_np=b.numpy()\n",
    "c_np=a_np@b_np\n",
    "c=torch.tensor(c_np)\n",
    "print(\"c=\\n\",c)\n",
    "print(\"c_np=\\n\",c_np)"
   ]
  },
  {
   "cell_type": "markdown",
   "metadata": {},
   "source": [
    "最后，Tensor也支持广播操作，在这里不再赘述。"
   ]
  },
  {
   "cell_type": "markdown",
   "metadata": {},
   "source": [
    "# 自动求导\n",
    "\n",
    "在神经网络中，优化算法需要计算损失函数对于每个参数的导数，然而在动辄成千上万甚至数十万参数的情况下，靠人工取计算这些导数显然是不现实的。为此，在现代化的深度学习框架中，都包含了自动求导的模块。\n",
    "\n",
    "在PyTorch中，torch.autograd模块就是用来实现自动求导的。\n",
    "\n",
    "对于一个Tensor，在创建的时候可以通过加入\"requires_grad=True\"选项，表示需要对这个Tensor进行求导。比如，我们对一个最简单的线性函数：$$y=x'b$$进行求导，易得：$$\\frac{dy}{db}=x$$一般而言，如果$(x,y)$为数据，$b$为参数，我们需要对参数求导（而非数据），从而我们只需要要求Tensor b在创建时加入requires_grad=True选项就可以了，比如："
   ]
  },
  {
   "cell_type": "code",
   "execution_count": 30,
   "metadata": {},
   "outputs": [
    {
     "name": "stdout",
     "output_type": "stream",
     "text": [
      "x=\n",
      " tensor([0.4106, 0.8397, 0.1396])\n",
      "y= tensor(2.5086, grad_fn=<DotBackward>)\n",
      "dy/dx=\n",
      " None\n",
      "dy/db=\n",
      " tensor([0.4106, 0.8397, 0.1396])\n"
     ]
    }
   ],
   "source": [
    "x=torch.rand(3)\n",
    "b=torch.tensor([1.,2,3], requires_grad=True)\n",
    "y=torch.dot(x,b)\n",
    "print(\"x=\\n\",x)\n",
    "print(\"y=\",y)\n",
    "y.backward()\n",
    "print(\"dy/dx=\\n\",x.grad)\n",
    "print(\"dy/db=\\n\",b.grad)"
   ]
  },
  {
   "cell_type": "markdown",
   "metadata": {},
   "source": [
    "可以看到由于b加入了requires_grad=True选项，我们可以使用y.backward()选项，实现对b的求导；而x由于没有这个选项，从而没有对x进行求导。\n",
    "\n",
    "我们还可以使用更加复杂的函数，比如：$$y=x'b \\\\ z=e^{y}$$其对$b$的导数应该按照链式法则进行计算：$$\\frac{dz}{db}=\\frac{dz}{dy}\\cdot\\frac{dy}{db}=e^{y}\\cdot x=zx$$"
   ]
  },
  {
   "cell_type": "code",
   "execution_count": 31,
   "metadata": {},
   "outputs": [
    {
     "name": "stdout",
     "output_type": "stream",
     "text": [
      "x=\n",
      " tensor([0.7099, 0.0095, 0.0898])\n",
      "y= tensor(0.9982, grad_fn=<DotBackward>)\n",
      "z= tensor(2.7133, grad_fn=<ExpBackward>)\n",
      "dz/db=\n",
      " tensor([1.9263, 0.0257, 0.2435])\n"
     ]
    }
   ],
   "source": [
    "x=torch.rand(3)\n",
    "b=torch.tensor([1.,2,3], requires_grad=True)\n",
    "y=torch.dot(x,b)\n",
    "z=torch.exp(y)\n",
    "print(\"x=\\n\",x)\n",
    "print(\"y=\",y)\n",
    "print(\"z=\",z)\n",
    "z.backward()\n",
    "print(\"dz/db=\\n\",b.grad)"
   ]
  },
  {
   "cell_type": "markdown",
   "metadata": {},
   "source": [
    "以上复合函数求导在PyTorch中是以 **计算图** 的方式进行的，比如上面的例子我们可以使用如下的计算图来表示：\n",
    "![](pic/compute_graph.gv.png \"计算图\")\n",
    "其中菱形代表计算。在计算导数时，使用一种“反向传播”算法，即使用链式法则，按照计算方向的反方向计算导数，如下图所示：\n",
    "![](pic/compute_graph_back.gv.png \"反向传播图\")\n",
    "上图中虚线代表计算导数的方向，每条虚线计算导数，然后在节点上从最终的节点$z$到该节点$b$的导数累乘起来，就得到了$\\frac{dz}{db}$。正因如此，计算节点导数的函数才被成为backward()。\n",
    "\n",
    "PyTorch的计算图有个非常重要的优势是使用了动态的计算图，意味着每次传播时，计算图可以动态重新构建。\n",
    "\n",
    "在中间节点加入参数也是完全可行的，比如：$$y=x'b \\\\ z=e^{cy}$$那么导数为：$$\\frac{dz}{dc}=ye^{cy}=yz \\\\ \\frac{dz}{db}=\\frac{dz}{dy}\\cdot\\frac{dy}{db}=ce^{cy}\\cdot x=czx$$使用计算图表示为：\n",
    "![](pic/compute_graph_back2.gv.png \"反向传播图\")"
   ]
  },
  {
   "cell_type": "code",
   "execution_count": 32,
   "metadata": {},
   "outputs": [
    {
     "name": "stdout",
     "output_type": "stream",
     "text": [
      "x=\n",
      " tensor([0.9294, 0.2947, 0.8184])\n",
      "c= tensor([2.], requires_grad=True)\n",
      "y= tensor(3.9739, grad_fn=<DotBackward>)\n",
      "z= tensor([2829.4128], grad_fn=<ExpBackward>)\n",
      "dz/db=\n",
      " tensor([5259.3037, 1667.5731, 4631.0752])\n",
      "dz/dc=\n",
      " tensor([11243.8379])\n"
     ]
    }
   ],
   "source": [
    "x=torch.rand(3)\n",
    "b=torch.tensor([1.,2,3], requires_grad=True)\n",
    "y=torch.dot(x,b)\n",
    "c=torch.tensor([2.], requires_grad=True)\n",
    "z=torch.exp(c*y)\n",
    "print(\"x=\\n\",x)\n",
    "print(\"c=\",c)\n",
    "print(\"y=\",y)\n",
    "print(\"z=\",z)\n",
    "z.backward()\n",
    "print(\"dz/db=\\n\",b.grad)\n",
    "print(\"dz/dc=\\n\",c.grad)"
   ]
  },
  {
   "cell_type": "markdown",
   "metadata": {},
   "source": [
    "在统计和机器学习中，计算的目标函数（损失函数）通常是一个求和的形式：$$Q(x,b)=\\sum_{i=1}^N q(x_i,b)$$此时我们对$b$求导：$$\\frac{dQ}{db}=\\sum_{i=1}^N \\frac{dq(x_i,b)}{db}$$在默认的情况下，每次调用backward()后，导数都会自动进行累加："
   ]
  },
  {
   "cell_type": "code",
   "execution_count": 33,
   "metadata": {},
   "outputs": [
    {
     "name": "stdout",
     "output_type": "stream",
     "text": [
      "dy/db=\n",
      " tensor([1., 2., 3.])\n",
      "dy/db=\n",
      " tensor([5., 7., 9.])\n"
     ]
    }
   ],
   "source": [
    "x1=torch.tensor([1,2,3.])\n",
    "x2=torch.tensor([4,5,6.])\n",
    "b=torch.tensor([1.,2,3], requires_grad=True)\n",
    "y=torch.dot(x1,b)\n",
    "y.backward()\n",
    "print(\"dy/db=\\n\",b.grad)\n",
    "y=torch.dot(x2,b)\n",
    "y.backward()\n",
    "print(\"dy/db=\\n\",b.grad)"
   ]
  },
  {
   "cell_type": "markdown",
   "metadata": {},
   "source": [
    "如果不需要累加，需要对梯度清零："
   ]
  },
  {
   "cell_type": "code",
   "execution_count": 34,
   "metadata": {},
   "outputs": [
    {
     "name": "stdout",
     "output_type": "stream",
     "text": [
      "dy/db=\n",
      " tensor([1., 2., 3.])\n",
      "dy/db=\n",
      " tensor([4., 5., 6.])\n"
     ]
    }
   ],
   "source": [
    "x1=torch.tensor([1,2,3.])\n",
    "x2=torch.tensor([4,5,6.])\n",
    "b=torch.tensor([1.,2,3], requires_grad=True)\n",
    "y=torch.dot(x1,b)\n",
    "y.backward()\n",
    "print(\"dy/db=\\n\",b.grad)\n",
    "b.grad.zero_()\n",
    "y=torch.dot(x2,b)\n",
    "y.backward()\n",
    "print(\"dy/db=\\n\",b.grad)"
   ]
  },
  {
   "cell_type": "markdown",
   "metadata": {},
   "source": [
    "在PyTorch中，只允许一个标量对张量求导，而不允许张量对张量求导。如果需要张量对张量求导，需要手动计算。\n",
    "比如，对于函数：$$y_1=b_1 \\times x_1 + b_2 \\times x_2 +b_3 \\times x_1\\times x_2 \\\\ y_2= b_2\\times x_1^{b_1}+x_2^{b_3}$$参数为$\\left[b_1,b_2,b_3\\right]$，而输出为$\\left[y_1,y_2\\right]$，其导数为：$$\\frac{dy}{db}=\\left[\\begin{array}{ccc}\n",
    "x_{1} & x_{2} & x_{1}x_{2}\\\\\n",
    "b_{2}x_{1}^{b_{1}}\\ln\\left(x_{1}\\right) & x_{1}^{b_{1}} & x_{2}^{b_{3}}\\ln\\left(x_{2}\\right)\n",
    "\\end{array}\\right]$$\n",
    "\n",
    "为了计算该Jacobian矩阵，可以分开计算第一行和第二行。在backward()函数中，可以加入一个参数向量v，比如如果使用：\n",
    "```python\n",
    "y.backward(v)\n",
    "```\n",
    "\n",
    "那么该函数就将计算：$\\frac{d(vy')}{db}$，我们只需要分别令$v_1=\\left[1,0\\right],v_2=\\left[0,1\\right]$就可以分别计算出Jaccobian的两行，然后放在一起即可："
   ]
  },
  {
   "cell_type": "code",
   "execution_count": 35,
   "metadata": {},
   "outputs": [
    {
     "name": "stdout",
     "output_type": "stream",
     "text": [
      "x= tensor([1., 2.])\n",
      "y= tensor([11., 10.], grad_fn=<CopySlices>)\n",
      "J1= tensor([0.0000, 1.0000, 5.5452])\n",
      "J2= tensor([0.0000, 1.0000, 5.5452])\n",
      "J=\n",
      " tensor([[0.0000, 1.0000, 5.5452],\n",
      "        [0.0000, 1.0000, 5.5452]])\n"
     ]
    }
   ],
   "source": [
    "x=torch.tensor([1.,2])\n",
    "b=torch.tensor([1,2,3.], requires_grad=True)\n",
    "y=torch.zeros(2)\n",
    "y[0]=b[0]*x[0]+b[1]*x[1]+b[2]*x[0]*x[1]\n",
    "y[1]=b[1]*(x[0]**b[0])+x[1]**b[2]\n",
    "print(\"x=\",x)\n",
    "print(\"y=\",y)\n",
    "y.backward(torch.tensor([1.,0]), retain_graph=True)\n",
    "J1=b.grad\n",
    "b.grad.zero_()\n",
    "J2=y.backward(torch.tensor([0,1.]))\n",
    "J2=b.grad\n",
    "print(\"J1=\",J1)\n",
    "print(\"J2=\",J2)\n",
    "J=torch.zeros(2,3)\n",
    "J[0]=J1\n",
    "J[1]=J2\n",
    "print(\"J=\\n\",J)"
   ]
  },
  {
   "cell_type": "markdown",
   "metadata": {},
   "source": [
    "注意以上代码中的两个细节：\n",
    "\n",
    "* 第一次调用backward时，使用了retain_graph=True选项，该选项代表在多次传播时，强制保留反向传播中的中间计算结果\n",
    "* 由于每一次传播时grad会累加，为了不让其累加，我们对b.grad进行了清零操作\n",
    "\n",
    "最后，值得注意的是，如果某个Tensor需要求导，而且要被放在GPU上，那么在创建该Tensor时，一定要用“device=0”的方式来创建："
   ]
  },
  {
   "cell_type": "code",
   "execution_count": 36,
   "metadata": {},
   "outputs": [
    {
     "name": "stdout",
     "output_type": "stream",
     "text": [
      "tensor([0.1169, 0.2497, 0.0593], device='cuda:0', requires_grad=True)\n",
      "tensor([0.2337, 0.4994, 0.1186], device='cuda:0')\n"
     ]
    }
   ],
   "source": [
    "b=torch.rand(3,requires_grad=True, device=0)\n",
    "f=torch.sum(b**2)\n",
    "f.backward()\n",
    "print(b)\n",
    "print(b.grad)"
   ]
  },
  {
   "cell_type": "markdown",
   "metadata": {},
   "source": [
    "# 数据读取\n",
    "\n",
    "在torch.utils.data模块中包含了读取数据的类，比如Dataset、IterableDataset和DataLoader等。其中：\n",
    "\n",
    "* Dataset提供了一个抽象类，用于用户自定义数据集，用户需要重载两个函数完成这个类：\n",
    "    * \\_\\_len\\_\\_()：数据量大小\n",
    "    * \\_\\_getitem\\_\\_()：获得一条数据\n",
    "* IterableDataset同样提供了一个抽象类，与Dataset不同的是该抽象类使用迭代器的方式返回数据，通常用来比较大型的数据或者从数据库、远程服务器中读取的数据等等，用户需要重载一个函数完成这个类：\n",
    "    * \\_\\_iter\\_\\_()：返回一个数据条目（可迭代）\n",
    "* DataLoader在Dataset的基础上定义一个迭代器，实现批量（batch）读取、随机读取等操作。\n",
    "\n",
    "我们首先以一个伪数据看一下Dataset的使用方法："
   ]
  },
  {
   "cell_type": "code",
   "execution_count": 37,
   "metadata": {},
   "outputs": [
    {
     "name": "stdout",
     "output_type": "stream",
     "text": [
      "X=\n",
      " [[ 0.13958296  1.11010286 -0.47648123]\n",
      " [-1.1906554   0.13417919  0.73141313]\n",
      " [ 0.6098704   0.88370818  0.97635877]\n",
      " [ 0.85654337 -0.39753292 -0.88691056]\n",
      " [-0.58375323  0.15686571 -0.27163086]\n",
      " [ 0.1359526  -2.20429394 -0.84047942]\n",
      " [-1.28626822  2.16082231  1.30233528]\n",
      " [-0.30457988 -0.25041342  1.67965271]\n",
      " [-1.54580005  0.10555878 -0.09061998]\n",
      " [ 0.27235708  0.2452142  -2.09338201]] \n",
      "Y=\n",
      " [ 0.93034499  1.27194237  5.30636308 -2.59925413 -1.0849144  -6.79407356\n",
      "  6.94238225  4.23355142 -1.60654244 -5.51736055]\n"
     ]
    }
   ],
   "source": [
    "import numpy as np\n",
    "# 这里假设一个伪数据集，使用NumPy生成\n",
    "X=np.random.normal(0,1,(10,3))\n",
    "b=np.array([1,2,3.])\n",
    "Y=X@b.T\n",
    "print(\"X=\\n\",X,\"\\nY=\\n\",Y)"
   ]
  },
  {
   "cell_type": "markdown",
   "metadata": {},
   "source": [
    "以上使用NumPy产生了10个观测，其中有3个特征，以及一个标签（Y），接下来我们定义Dataset："
   ]
  },
  {
   "cell_type": "code",
   "execution_count": 38,
   "metadata": {},
   "outputs": [],
   "source": [
    "from torch.utils.data import Dataset\n",
    "class fake_data(Dataset):\n",
    "    def __len__(self):\n",
    "        return X.shape[0]\n",
    "    def __getitem__(self, i):\n",
    "        x=X[i,:]\n",
    "        y=Y[i]\n",
    "        data=torch.from_numpy(x)\n",
    "        label=torch.tensor(y)\n",
    "        return data, label"
   ]
  },
  {
   "cell_type": "markdown",
   "metadata": {},
   "source": [
    "以上我们就定义了一个Dataset，我们可以使用如下方法获得给定下标的数据："
   ]
  },
  {
   "cell_type": "code",
   "execution_count": 39,
   "metadata": {},
   "outputs": [
    {
     "name": "stdout",
     "output_type": "stream",
     "text": [
      "共有10个观测\n",
      "第1个观测为：\n",
      " (tensor([ 0.1396,  1.1101, -0.4765], dtype=torch.float64), tensor(0.9303, dtype=torch.float64))\n"
     ]
    }
   ],
   "source": [
    "fd=fake_data()\n",
    "print(\"共有{}个观测\".format(fd.__len__()))\n",
    "print(\"第1个观测为：\\n\",fd[0])"
   ]
  },
  {
   "cell_type": "markdown",
   "metadata": {},
   "source": [
    "以上的Dataset只提供了一个简单的数据抽取对象，而深度学习所需要的更多的操作可以由DataLoader来完成。\n",
    "\n",
    "为了创建一个DataLoader，需要提供以下信息：\n",
    "* Dataset：像上面定义的Dataset，数据源\n",
    "* shuffle：是否将数据打乱\n",
    "* batch_size: 批量处理每批的大小\n",
    "* sampler/batch_sampler：一个用于将数据打乱的类，可以使用默认\n",
    "* num_workers：载入数据使用的进程数，默认为0，即使用主进程\n",
    "* pin_memory：是否将数据保存在CUDA的pinned memory区，从而放入GPU中会快一些\n",
    "* drop_last：是否扔掉最后一个不完整的batch（通常由于数据量/批大小不能整除）\n",
    "\n",
    "比如："
   ]
  },
  {
   "cell_type": "code",
   "execution_count": 40,
   "metadata": {},
   "outputs": [
    {
     "name": "stdout",
     "output_type": "stream",
     "text": [
      "第0批：\n",
      "tensor([[-0.3046, -0.2504,  1.6797],\n",
      "        [ 0.1360, -2.2043, -0.8405],\n",
      "        [-1.1907,  0.1342,  0.7314]], dtype=torch.float64)\n",
      "tensor([ 4.2336, -6.7941,  1.2719], dtype=torch.float64)\n",
      "第1批：\n",
      "tensor([[ 0.8565, -0.3975, -0.8869],\n",
      "        [-1.5458,  0.1056, -0.0906],\n",
      "        [ 0.2724,  0.2452, -2.0934]], dtype=torch.float64)\n",
      "tensor([-2.5993, -1.6065, -5.5174], dtype=torch.float64)\n",
      "第2批：\n",
      "tensor([[-0.5838,  0.1569, -0.2716],\n",
      "        [-1.2863,  2.1608,  1.3023],\n",
      "        [ 0.1396,  1.1101, -0.4765]], dtype=torch.float64)\n",
      "tensor([-1.0849,  6.9424,  0.9303], dtype=torch.float64)\n"
     ]
    }
   ],
   "source": [
    "from torch.utils.data import DataLoader\n",
    "fdl=DataLoader(fd, shuffle=True, batch_size=3, drop_last=True)\n",
    "for d,l in enumerate(fdl):\n",
    "    print(\"第{}批：\".format(d))\n",
    "    print(l[0])\n",
    "    print(l[1])"
   ]
  },
  {
   "cell_type": "markdown",
   "metadata": {},
   "source": [
    "如果需要全部返回，设定batch_size为数据量即可："
   ]
  },
  {
   "cell_type": "code",
   "execution_count": 41,
   "metadata": {},
   "outputs": [
    {
     "name": "stdout",
     "output_type": "stream",
     "text": [
      "tensor([[ 0.2724,  0.2452, -2.0934],\n",
      "        [-0.5838,  0.1569, -0.2716],\n",
      "        [-1.5458,  0.1056, -0.0906],\n",
      "        [ 0.8565, -0.3975, -0.8869],\n",
      "        [ 0.1396,  1.1101, -0.4765],\n",
      "        [-1.2863,  2.1608,  1.3023],\n",
      "        [ 0.6099,  0.8837,  0.9764],\n",
      "        [-1.1907,  0.1342,  0.7314],\n",
      "        [-0.3046, -0.2504,  1.6797],\n",
      "        [ 0.1360, -2.2043, -0.8405]], dtype=torch.float64)\n",
      "tensor([-5.5174, -1.0849, -1.6065, -2.5993,  0.9303,  6.9424,  5.3064,  1.2719,\n",
      "         4.2336, -6.7941], dtype=torch.float64)\n"
     ]
    }
   ],
   "source": [
    "fdl=DataLoader(fd, shuffle=True, batch_size=fd.__len__(), drop_last=True)\n",
    "for d in fdl:\n",
    "    print(d[0])\n",
    "    print(d[1])"
   ]
  },
  {
   "cell_type": "markdown",
   "metadata": {},
   "source": [
    "# 应用实例：使用PyTorch计算Logistic回归\n",
    "\n",
    "应用PyTorch可以自动计算导数的特性，我们可以轻松的计算线性回归、Logistic回归等多数简单的统计模型。接下来我们就使用PyTorch计算Logistic回归，并与真实概率进行比较。\n",
    "\n",
    "首先，我们在一个fake数据集上进行计算，并验证。我们使用如下代码产生数据："
   ]
  },
  {
   "cell_type": "code",
   "execution_count": 42,
   "metadata": {},
   "outputs": [],
   "source": [
    "import numpy as np\n",
    "\n",
    "# 设置参数\n",
    "N=200\n",
    "K=5\n",
    "# 产生伪数据\n",
    "X=np.random.normal(0,1,(N,K))\n",
    "beta=np.array([1.,2,-1,-2,1])\n",
    "Xb=X@beta.T+0.5\n",
    "True_Prob=1.0/(1+np.exp(-Xb))\n",
    "Y=(True_Prob>=np.random.random(N)).astype('int32')"
   ]
  },
  {
   "cell_type": "markdown",
   "metadata": {},
   "source": [
    "接下来我们构建Dataset和DataLoader"
   ]
  },
  {
   "cell_type": "code",
   "execution_count": 43,
   "metadata": {},
   "outputs": [],
   "source": [
    "import torch\n",
    "from torch.utils.data import Dataset, DataLoader\n",
    "from torch.utils.data import Dataset\n",
    "class binary_data(Dataset):\n",
    "    def __len__(self):\n",
    "        return X.shape[0]\n",
    "    def __getitem__(self, i):\n",
    "        x=X[i,:]\n",
    "        y=Y[i]\n",
    "        if torch.cuda.is_available():\n",
    "            data=torch.Tensor(x).cuda(0)\n",
    "            label=torch.tensor(y).cuda(0)\n",
    "        else:\n",
    "            data=torch.Tensor(x)\n",
    "            label=torch.tensor(y)\n",
    "        return data, label\n",
    "fd=binary_data()\n",
    "dl=DataLoader(fd, shuffle=False, batch_size=fd.__len__(), drop_last=True, num_workers=0)"
   ]
  },
  {
   "cell_type": "markdown",
   "metadata": {},
   "source": [
    "接下来，给定$b,b_0$，我们构造Logistic模型：$$Prob=\\frac{1}{1+e^{-\\left(b_0+x'b\\right)}}$$\n",
    "\n",
    "我们构造如下的计算图：\n",
    "\n",
    "![](pic/compute_graph_Logistic.gv.png \"Logistic计算图\")\n",
    "\n",
    "使用矩阵和向量的乘法，我们可以使用如下图简化：\n",
    "\n",
    "![](pic/compute_graph_Logistic2.gv.png \"Logistic计算图\")"
   ]
  },
  {
   "cell_type": "code",
   "execution_count": 44,
   "metadata": {},
   "outputs": [
    {
     "name": "stdout",
     "output_type": "stream",
     "text": [
      "tensor([0.1777, 0.7496, 0.9609, 0.6010, 0.3816, 0.5442, 0.2764, 0.2598, 0.0656,\n",
      "        0.9058, 0.6723, 0.8175, 0.0241, 0.2079, 0.8926, 0.8145, 0.6428, 0.4390,\n",
      "        0.9614, 0.8881, 0.9301, 0.8080, 0.2341, 0.7268, 0.9125, 0.6157, 0.2403,\n",
      "        0.6896, 0.3089, 0.1406, 0.2374, 0.2763, 0.2487, 0.2990, 0.8235, 0.4323,\n",
      "        0.8114, 0.0929, 0.8883, 0.0284, 0.1011, 0.4887, 0.2295, 0.2447, 0.9027,\n",
      "        0.2430, 0.1218, 0.9737, 0.5845, 0.9670, 0.1722, 0.2449, 0.5099, 0.6230,\n",
      "        0.9440, 0.7941, 0.7301, 0.7832, 0.4327, 0.6879, 0.6641, 0.8343, 0.5393,\n",
      "        0.1139, 0.5742, 0.4425, 0.1732, 0.1500, 0.1454, 0.9799, 0.8872, 0.5563,\n",
      "        0.8334, 0.3644, 0.5828, 0.1397, 0.1891, 0.7267, 0.9770, 0.0085, 0.3252,\n",
      "        0.7717, 0.6342, 0.0777, 0.6738, 0.1067, 0.9517, 0.0822, 0.2268, 0.9172,\n",
      "        0.9870, 0.8773, 0.5353, 0.2104, 0.6592, 0.2996, 0.9577, 0.0204, 0.1418,\n",
      "        0.1489, 0.3262, 0.8988, 0.5859, 0.3662, 0.5493, 0.2588, 0.1561, 0.7513,\n",
      "        0.7224, 0.8474, 0.8107, 0.6273, 0.8009, 0.6847, 0.9891, 0.8410, 0.7549,\n",
      "        0.2389, 0.3554, 0.7726, 0.4829, 0.7119, 0.3415, 0.1278, 0.9159, 0.5804,\n",
      "        0.0965, 0.8613, 0.5589, 0.7832, 0.8121, 0.9932, 0.7645, 0.9266, 0.8187,\n",
      "        0.4648, 0.4942, 0.6725, 0.6462, 0.8476, 0.9464, 0.8774, 0.1502, 0.2549,\n",
      "        0.4398, 0.8777, 0.4803, 0.7037, 0.6434, 0.5089, 0.8827, 0.7832, 0.6770,\n",
      "        0.6125, 0.7088, 0.8540, 0.5302, 0.3957, 0.5384, 0.3278, 0.0771, 0.5548,\n",
      "        0.4952, 0.7196, 0.3941, 0.6409, 0.4538, 0.3454, 0.9528, 0.6598, 0.2769,\n",
      "        0.9416, 0.9668, 0.9411, 0.7203, 0.4733, 0.3127, 0.7600, 0.0944, 0.8262,\n",
      "        0.8559, 0.1355, 0.7972, 0.8512, 0.7573, 0.1300, 0.9313, 0.2818, 0.1004,\n",
      "        0.8463, 0.0183, 0.6677, 0.8951, 0.5988, 0.1863, 0.1276, 0.2717, 0.6556,\n",
      "        0.6833, 0.6851], device='cuda:0', grad_fn=<SigmoidBackward>)\n"
     ]
    }
   ],
   "source": [
    "k=fd[0][0].numel()\n",
    "if torch.cuda.is_available():\n",
    "    b=torch.rand(k, requires_grad=True, device=0)\n",
    "    b0=torch.rand(1, requires_grad=True, device=0)\n",
    "else:\n",
    "    b=torch.rand(k, requires_grad=True)\n",
    "    b0=torch.rand(1, requires_grad=True)\n",
    "for x,y in dl:\n",
    "    Prob=torch.sigmoid(torch.mv(x,b)+b0)\n",
    "    print(Prob)"
   ]
  },
  {
   "cell_type": "markdown",
   "metadata": {},
   "source": [
    "有了概率预测后，可以计算极大似然函数：$$\\ln{L}=\\frac{1}{N}\\sum_{i=1}^{N}\\left[1\\left\\{y_i=1\\right\\}\\ln{Prob_i}+\\left(1\\left\\{y_i=0\\right\\}\\right)\\ln{\\left(1-Prob_i\\right)}\\right]$$"
   ]
  },
  {
   "cell_type": "code",
   "execution_count": 45,
   "metadata": {},
   "outputs": [
    {
     "name": "stdout",
     "output_type": "stream",
     "text": [
      "tensor(-0.8067, device='cuda:0', grad_fn=<MeanBackward0>)\n"
     ]
    }
   ],
   "source": [
    "LL=torch.mean(y*torch.log(Prob)+(1-y)*torch.log(1-Prob))\n",
    "print(LL)"
   ]
  },
  {
   "cell_type": "markdown",
   "metadata": {},
   "source": [
    "我们可以使用backward()计算b和b0的导数："
   ]
  },
  {
   "cell_type": "code",
   "execution_count": 46,
   "metadata": {},
   "outputs": [
    {
     "name": "stdout",
     "output_type": "stream",
     "text": [
      "tensor([-0.0063,  0.0224, -0.2298, -0.3402,  0.0042], device='cuda:0')\n",
      "tensor([-0.0290], device='cuda:0')\n"
     ]
    }
   ],
   "source": [
    "LL.backward()\n",
    "print(b.grad)\n",
    "print(b0.grad)"
   ]
  },
  {
   "cell_type": "markdown",
   "metadata": {},
   "source": [
    "为了使得似然函数能够达到最大值，我们需要引入最优化算法。\n",
    "\n",
    "一般最优化算法都以“最小化”为目标，而极大似然估计要求最大化对数似然函数，为此我们不妨对对数似然函数取相反数，从而把一个求最大化的问题转化为最小化的问题。\n",
    "\n",
    "为了求最小化，我们可以使用梯度下降法进行迭代。对于一个函数$f\\left(x\\right)$，为了求其最小值，我们可以从一个初始值$x^{(0)}$开始，并按照下降最快的方向进行迭代：$$x^{(t+1)}=x^{(t)}-\\eta\\nabla_x f\\left(x^{(t)}\\right)$$其中$\\nabla_x f\\left(x^{(t)}\\right)$为$f\\left(x^{(t)}\\right)$的梯度，而$\\eta$为一个步长（step size），或者在机器学习中，我们称为 **学习率** （**learning rate**）。\n",
    "\n",
    "![](pic/gradient_descent.gif \"动量\")\n",
    "\n",
    "对于以上的问题，我们令$b^{(0)}$为一个初始值（可以使用随机数选取），然后使用：$$b^{(t+1)}=b^{(t)}-\\eta\\nabla_b \\left(-\\ln{L}\\right)$$进行更新迭代，直到导数收敛到0为止。\n",
    "\n",
    "我们可以使用如下代码进行迭代："
   ]
  },
  {
   "cell_type": "code",
   "execution_count": 47,
   "metadata": {},
   "outputs": [
    {
     "name": "stdout",
     "output_type": "stream",
     "text": [
      "tensor([ 0.0032, -0.0602,  0.0368,  0.0783, -0.0254,  0.0221], device='cuda:0')\n",
      "tensor([ 0.7215,  0.8234, -0.3085, -0.9528,  0.5044,  0.2911], device='cuda:0',\n",
      "       requires_grad=True)\n"
     ]
    }
   ],
   "source": [
    "# 参数\n",
    "# learning rate\n",
    "lr=0.001\n",
    "# 初始化数据，只有1个batch，即全部数据\n",
    "fd=binary_data()\n",
    "dl=DataLoader(fd, shuffle=False, batch_size=fd.__len__(), drop_last=True, num_workers=0)\n",
    "k=fd[0][0].numel()\n",
    "# 设置初始值\n",
    "if torch.cuda.is_available():\n",
    "    b=torch.rand(k+1, requires_grad=True, device=0)\n",
    "else:\n",
    "    b=torch.rand(k+1, requires_grad=True)\n",
    "# 迭代8000次\n",
    "for i in range(8000):\n",
    "    # 计算梯度\n",
    "    for x,y in dl:\n",
    "        Xb=torch.mv(x,b[:-1])+b[-1]\n",
    "        logeXb=torch.log1p(torch.exp(Xb))\n",
    "        LL=-torch.mean(y*(Xb-logeXb)+(1-y)*(-logeXb))\n",
    "    LL.backward()\n",
    "    if i==7999:\n",
    "        print(b.grad)\n",
    "    with torch.no_grad():\n",
    "        b.sub_(lr*b.grad)\n",
    "        # 梯度清零 \n",
    "        b.grad.zero_()\n",
    "\n",
    "print(b)"
   ]
  },
  {
   "cell_type": "markdown",
   "metadata": {},
   "source": [
    "注意在以上代码中我们使用了with torch.no_grad()作为上下文，该操作可以暂时切断自动求导操做，否则无法对b进行修改。\n",
    "\n",
    "以上结果可以看到梯度都几乎为0。接下来计算概率："
   ]
  },
  {
   "cell_type": "code",
   "execution_count": 48,
   "metadata": {},
   "outputs": [],
   "source": [
    "Prob_pred=torch.sigmoid(torch.mv(x,b[:-1])+b[-1])\n",
    "Prob_pred_np=Prob_pred.detach().cpu().numpy()"
   ]
  },
  {
   "cell_type": "markdown",
   "metadata": {},
   "source": [
    "画图进行比较："
   ]
  },
  {
   "cell_type": "code",
   "execution_count": 49,
   "metadata": {},
   "outputs": [
    {
     "data": {
      "image/png": "[encoded data removed]",
      "text/plain": [
       "<Figure size 720x720 with 1 Axes>"
      ]
     },
     "metadata": {
      "needs_background": "light"
     },
     "output_type": "display_data"
    }
   ],
   "source": [
    "import matplotlib.pyplot as plt\n",
    "%matplotlib inline\n",
    "plt.rcParams['figure.figsize'] = (10.0, 10.0)\n",
    "\n",
    "l=np.linspace(0,1,50)\n",
    "plt.scatter(True_Prob,Prob_pred_np,color='pink') \n",
    "plt.plot(l,l,color='blue') \n",
    "plt.xlabel('True Prob')\n",
    "plt.ylabel(\"Predicted Prob\")\n",
    "plt.title('Predicted Probability v.s. True Probability')\n",
    "plt.show() "
   ]
  },
  {
   "cell_type": "markdown",
   "metadata": {},
   "source": [
    "# 随机梯度下降与最优化工具箱\n",
    "\n",
    "## 随机梯度下降\n",
    "\n",
    "以上虽然使用简单的梯度下降方法完成了最优化，然而在处理大型数据时，以上的计算方法需要计算一个很大的矩阵和向量的乘积，在更大的模型中这个运算更加复杂，而且每次迭代都需要计算一次，计算效率比较低。\n",
    "\n",
    "注意到，对于损失函数（目标函数）:$$\\ln{L}=\\frac{1}{N}\\sum_{i=1}^{N}\\left[1\\left\\{y_i=1\\right\\}\\ln{Prob_i}+\\left(1\\left\\{y_i=0\\right\\}\\right)\\ln{\\left(1-Prob_i\\right)}\\right]$$实际上是一个样本平均，根据大数定律应该收敛到其期望。\n",
    "\n",
    "一个很自然的想法是，我们可以不适用全部数据计算期望，而是将所有数据随机分成几个批次（batch），在每个批次（batch）上分别计算目标函数和梯度，并进行迭代即可。这种计算方法由于引入了随机性，因而被成为 **随机梯度下降** （ **stochastic gradient descent, SGD** ）。\n",
    "\n",
    "为了使用随机梯度下降方法，我们可以将$N$个数据分为$M$份，方便期间我们不妨假设每一份数据（批次）的数据量为$n$，那么随机梯度下降即在每个批次上执行：$$b^{(t+1)}=b^{(t)}-\\eta\\nabla_b \\left(-\\ln{L}\\right)^{(m)}$$其中$m=1,2,...,M$。\n",
    "\n",
    "比如，对于以上的Logistic回归，我们可以使用如下代码实现随机梯度下降：\n",
    "\n",
    "首先将Dataset使用DataLoader初始化，令shuffle=True，即打乱顺序（随机化），40个数据为一个batch（共5个batch）："
   ]
  },
  {
   "cell_type": "code",
   "execution_count": 50,
   "metadata": {},
   "outputs": [],
   "source": [
    "fd=binary_data()\n",
    "dl=DataLoader(fd, shuffle=True, batch_size=50, drop_last=False, num_workers=0)"
   ]
  },
  {
   "cell_type": "markdown",
   "metadata": {},
   "source": [
    "接下来进行迭代："
   ]
  },
  {
   "cell_type": "code",
   "execution_count": 51,
   "metadata": {},
   "outputs": [
    {
     "name": "stdout",
     "output_type": "stream",
     "text": [
      "tensor([ 0.8544,  1.5536, -0.6768, -1.8532,  0.8909,  0.2275], device='cuda:0',\n",
      "       requires_grad=True)\n"
     ]
    }
   ],
   "source": [
    "# 参数\n",
    "# learning rate\n",
    "lr=0.001\n",
    "k=fd[0][0].numel()\n",
    "# 设置初始值\n",
    "if torch.cuda.is_available():\n",
    "    b=torch.rand(k+1, requires_grad=True, device=0)\n",
    "else:\n",
    "    b=torch.rand(k+1, requires_grad=True)\n",
    "# 迭代8000次\n",
    "for i in range(8000):\n",
    "    for x,y in dl:\n",
    "        # 计算梯度\n",
    "        Xb=torch.mv(x,b[:-1])+b[-1]\n",
    "        logeXb=torch.log1p(torch.exp(Xb))\n",
    "        LL=-torch.mean(y*(Xb-logeXb)+(1-y)*(-logeXb))\n",
    "        LL.backward()\n",
    "        with torch.no_grad():\n",
    "            b.sub_(lr*b.grad)\n",
    "            # 梯度清零 \n",
    "            b.grad.zero_()\n",
    "print(b)"
   ]
  },
  {
   "cell_type": "markdown",
   "metadata": {},
   "source": [
    "以上代码与之前的版本相似度很高，然而在这里，我们将每次的迭代嵌入到了每个批次中，从而实现了随机梯度下降。在这里涉及到两个循环：\n",
    "\n",
    "* 外层的循环中我们循环了1000次，每一次都使用了所有数据，我们称为一个epoch\n",
    "* 内层的循环是对batches进行循环，每一次循环使用一个batch，我们称为一个iteration"
   ]
  },
  {
   "cell_type": "markdown",
   "metadata": {},
   "source": [
    "## PyTorch中优化器的使用\n",
    "\n",
    "以上我们根据梯度下降的原理手写了原始的梯度下降方法和随机梯度下降方法。然而两种手写的优化方法使用起来比较繁琐且不够稳健。为了解决这个问题，我们可以使用PyTorch中自带的优化器。\n",
    "\n",
    "在PyTorch中，torch.optim包中提供了最优化所需要的函数。我们可以使用如下代码导入优化器："
   ]
  },
  {
   "cell_type": "code",
   "execution_count": 52,
   "metadata": {},
   "outputs": [],
   "source": [
    "import torch.optim as optim"
   ]
  },
  {
   "cell_type": "raw",
   "metadata": {},
   "source": [
    "比如我们如果需要使用随机梯度下降，可以使用如下代码创建一个随机梯度下降的优化器："
   ]
  },
  {
   "cell_type": "code",
   "execution_count": 53,
   "metadata": {},
   "outputs": [],
   "source": [
    "optimizer=optim.SGD([b], lr=0.001)"
   ]
  },
  {
   "cell_type": "markdown",
   "metadata": {},
   "source": [
    "注意SGD的第一个参数为一个可迭代的参数列表，所以我们将b放在了一个列表里面。lr为学习率。\n",
    "\n",
    "接下来我们可以使用如下代码进行迭代："
   ]
  },
  {
   "cell_type": "code",
   "execution_count": 54,
   "metadata": {},
   "outputs": [
    {
     "name": "stdout",
     "output_type": "stream",
     "text": [
      "tensor([ 0.8730,  1.5691, -0.6874, -1.8682,  0.9076,  0.2401], device='cuda:0',\n",
      "       requires_grad=True)\n"
     ]
    }
   ],
   "source": [
    "k=fd[0][0].numel()\n",
    "\n",
    "# 设置初始值\n",
    "if torch.cuda.is_available():\n",
    "    b=torch.rand(k+1, requires_grad=True, device=0)\n",
    "else:\n",
    "    b=torch.rand(k+1, requires_grad=True)\n",
    "ll_sgd=[]\n",
    "# 初始化\n",
    "dl=DataLoader(fd, shuffle=True, batch_size=50, drop_last=False, num_workers=0)\n",
    "optimizer=optim.SGD([b], lr=0.001)\n",
    "for i in range(8000):\n",
    "    for x,y in dl:\n",
    "        Xb=torch.mv(x,b[:-1])+b[-1]\n",
    "        logeXb=torch.log1p(torch.exp(Xb))\n",
    "        LL=-torch.mean(y*(Xb-logeXb)+(1-y)*(-logeXb))\n",
    "        ll_sgd.append(LL)\n",
    "        # 梯度清零\n",
    "        optimizer.zero_grad()\n",
    "        # 计算梯度\n",
    "        LL.backward()\n",
    "        # 迭代\n",
    "        optimizer.step()\n",
    "print(b)\n",
    "ll_sgd=np.array(ll_sgd)"
   ]
  },
  {
   "cell_type": "markdown",
   "metadata": {},
   "source": [
    "随机梯度下降方法虽然解决了大量数据的计算问题，然而也有一些缺点，比如：\n",
    "\n",
    "* 在SGD中，学习率是恒定的，而选择合适的学习率就非常重要了。太小的学习率需要迭代太多次，而太大的学习率会导致结果不稳定甚至不收敛\n",
    "* 在SGD中，所有参数使用同样的学习率，然而每个变量的分布不相同、参数的大小不相同，对于不同参数设定不同的学习率，或者给予不同的更新幅度是必要的\n",
    "* 随机梯度下降仍然不能解决局部最优的问题。此外Dauphin等人(2014)发现在神经网络中，存在大量鞍点（saddle point），是梯度下降面临的主要问题。\n",
    "\n",
    "为此在随机梯度下降的基础上，有很多扩展的方法。我们这里介绍SGD的几种简单扩展和在PyTorch中的实现。\n",
    "\n",
    "### 加入动量\n",
    "\n",
    "**动量** （ **Momentum** ）就像在物理的意义一样，使得参数有保持其运动轨迹的趋势。令$$v^{(t)}=\\alpha v^{(t-1)}+\\eta\\nabla_b Q\\left(b^{(t)}\\right)$$为动量（一个向量），其中$\\eta$为学习率，而$\\alpha$为一个衰减因子（在0到1之间，比如0.9），该因子决定了过去的导数决定现在方向的大小。从这个方程中可以看到，动量不仅仅使用了当前梯度的信息，还综合使用了过去所有期的梯度。接下来，使用：\n",
    "$$b^{(t+1)}=b^{(t)}-v^{(t)}$$进行迭代。\n",
    "\n",
    "![](pic/momentum.gif \"动量\")\n",
    "\n",
    "在PyTorch中，可以直接在optim.SGD中加入momentum参数加入动量："
   ]
  },
  {
   "cell_type": "code",
   "execution_count": 55,
   "metadata": {},
   "outputs": [
    {
     "name": "stdout",
     "output_type": "stream",
     "text": [
      "tensor([ 1.3177,  2.3785, -1.0298, -2.9131,  1.5090,  0.3823], device='cuda:0',\n",
      "       requires_grad=True)\n"
     ]
    }
   ],
   "source": [
    "k=fd[0][0].numel()\n",
    "\n",
    "# 设置初始值\n",
    "if torch.cuda.is_available():\n",
    "    b=torch.rand(k+1, requires_grad=True, device=0)\n",
    "else:\n",
    "    b=torch.rand(k+1, requires_grad=True)\n",
    "\n",
    "# 初始化\n",
    "dl=DataLoader(fd, shuffle=True, batch_size=50, drop_last=False, num_workers=0)\n",
    "optimizer=optim.SGD([b], lr=0.001, momentum=0.9)\n",
    "ll_momentum=[]\n",
    "for i in range(8000):\n",
    "    for x,y in dl:\n",
    "        Xb=torch.mv(x,b[:-1])+b[-1]\n",
    "        logeXb=torch.log1p(torch.exp(Xb))\n",
    "        LL=-torch.mean(y*(Xb-logeXb)+(1-y)*(-logeXb))\n",
    "        ll_momentum.append(LL)\n",
    "        # 梯度清零\n",
    "        optimizer.zero_grad()\n",
    "        # 计算梯度\n",
    "        LL.backward()\n",
    "        # 迭代\n",
    "        optimizer.step()\n",
    "print(b)\n",
    "ll_momentum=np.array(ll_momentum)"
   ]
  },
  {
   "cell_type": "markdown",
   "metadata": {},
   "source": [
    "### AdaGrad\n",
    "\n",
    "为了解决每个参数的学习率都相同的文艺，一个解决方法是使用 **适应性梯度算法** （ **adaptive gradient algorithm** ），即 **AdaGrad** 。这个方法的思路是给那些变化比较小的特征（比如比较稀疏的特征）以更大的学习率，从而加快训练。\n",
    "\n",
    "如果我们记梯度为$g^{(t)}=\\nabla_b Q\\left(b^{(t)}\\right)$，令$$G=\\sum_{t=1}^T g^{(t)}g^{(t)'}$$为梯度的外积之和（每次迭代的和），那么$G$的对角线元素即为：$$G_{ii}=\\sum_{t=1}^T \\left(g_i^{(t)}\\right)^2$$ 接下来在每次更新中，对于第$i$个参数，使用：$$b^{(t+1)}_i=b^{(t)}_i-\\frac{\\eta}{\\sqrt{G_{ii}}}\\nabla_b Q\\left(b^{(t)}\\right)$$进行迭代更新。\n",
    "\n",
    "在AdaGrad中，每个参数的更新过程中，实际的学习率为$\\frac{\\eta}{\\sqrt{G_{ii}}}$，是随着梯度绝对大小的变化而变化的：如果梯度相对较小，会放大学习率；而如果梯度相对较大，会使用较小的学习率。\n",
    "\n",
    "![](pic/adagrad.gif \"AdaGrad\")\n",
    "\n",
    "在PyTorch中，可以使用optim.Adagrad来实现该算法："
   ]
  },
  {
   "cell_type": "code",
   "execution_count": 56,
   "metadata": {},
   "outputs": [
    {
     "name": "stdout",
     "output_type": "stream",
     "text": [
      "tensor([ 0.6806,  0.4810, -0.0571, -0.1354,  0.4035,  0.3423], device='cuda:0',\n",
      "       requires_grad=True)\n"
     ]
    }
   ],
   "source": [
    "k=fd[0][0].numel()\n",
    "# 设置初始值\n",
    "if torch.cuda.is_available():\n",
    "    b=torch.rand(k+1, requires_grad=True, device=0)\n",
    "else:\n",
    "    b=torch.rand(k+1, requires_grad=True)\n",
    "\n",
    "# 初始化\n",
    "dl=DataLoader(fd, shuffle=True, batch_size=50, drop_last=False, num_workers=0)\n",
    "optimizer=optim.Adagrad([b], lr=0.001)\n",
    "ll_adagrad=[]\n",
    "for i in range(8000):\n",
    "    for x,y in dl:\n",
    "        Xb=torch.mv(x,b[:-1])+b[-1]\n",
    "        logeXb=torch.log1p(torch.exp(Xb))\n",
    "        LL=-torch.mean(y*(Xb-logeXb)+(1-y)*(-logeXb))\n",
    "        ll_adagrad.append(LL)\n",
    "        # 梯度清零\n",
    "        optimizer.zero_grad()\n",
    "        # 计算梯度\n",
    "        LL.backward()\n",
    "        # 迭代\n",
    "        optimizer.step()\n",
    "print(b)\n",
    "ll_adagrad=np.array(ll_adagrad)"
   ]
  },
  {
   "cell_type": "markdown",
   "metadata": {},
   "source": [
    "### RMSProp\n",
    "\n",
    "**Root Mean Square Propagation**，简称**RMSProp**，同样也是一个适应性学习率的算法。该算法将AdaGrad中的权重$G_{ii}=\\sum_{t=1}^T \\left(g_i^{(t)}\\right)^2$使用类似于Momentum的方法来进行更新：$$v_i^{(t)}=\\gamma v_i^{(t-1)}+\\left(1-\\gamma\\right)\\left(g_i^{(t)}\\right)^2$$使用：$$b^{(t+1)}_i=b^{(t)}_i-\\frac{\\eta}{\\sqrt{v_i^{(t)}}}\\nabla_b Q\\left(b^{(t)}\\right)$$进行迭代更新。\n",
    "\n",
    "PyTorch中可以使用optim.RMSprop实现："
   ]
  },
  {
   "cell_type": "code",
   "execution_count": 57,
   "metadata": {},
   "outputs": [
    {
     "name": "stdout",
     "output_type": "stream",
     "text": [
      "tensor([ 1.3336,  2.4066, -1.0404, -2.9490,  1.5300,  0.3872], device='cuda:0',\n",
      "       requires_grad=True)\n"
     ]
    }
   ],
   "source": [
    "k=fd[0][0].numel()\n",
    "# 设置初始值\n",
    "if torch.cuda.is_available():\n",
    "    b=torch.rand(k+1, requires_grad=True, device=0)\n",
    "else:\n",
    "    b=torch.rand(k+1, requires_grad=True)\n",
    "\n",
    "# 初始化\n",
    "dl=DataLoader(fd, shuffle=True, batch_size=50, drop_last=False, num_workers=0)\n",
    "optimizer=optim.RMSprop([b], lr=0.001)\n",
    "ll_rmsprop=[]\n",
    "for i in range(8000):\n",
    "    for x,y in dl:\n",
    "        Xb=torch.mv(x,b[:-1])+b[-1]\n",
    "        logeXb=torch.log1p(torch.exp(Xb))\n",
    "        LL=-torch.mean(y*(Xb-logeXb)+(1-y)*(-logeXb))\n",
    "        ll_rmsprop.append(LL)\n",
    "        # 梯度清零\n",
    "        optimizer.zero_grad()\n",
    "        # 计算梯度\n",
    "        LL.backward()\n",
    "        # 迭代\n",
    "        optimizer.step()\n",
    "print(b)\n",
    "ll_rmsprop=np.array(ll_rmsprop)"
   ]
  },
  {
   "cell_type": "markdown",
   "metadata": {},
   "source": [
    "### Adam\n",
    "\n",
    "**Adaptive Moment Estimation**，简称**Adam**，同时结合了RMSProp和Momentum，分别使用两个学习率对动量和权重进行更新：$$m_i^{(t)}=\\gamma_1 v_i^{(m-1)}+\\left(1-\\gamma_1\\right)g_i^{(t)} \\\\ v_i^{(t)}=\\gamma_2 v_i^{(t-1)}+\\left(1-\\gamma_2\\right)\\left(g_i^{(t)}\\right)^2$$然后计算：$$\\hat{m_i}=\\frac{m_i^{(t)}}{1-\\gamma_1^t} \\\\ \\hat{v_i}=\\frac{v_i^{(t)}}{1-\\gamma_2^t}$$最后进行迭代更新：$$b^{(t+1)}_i=b^{(t)}_i-\\eta\\frac{\\hat{m_i}}{\\sqrt{\\hat{v_i}}}$$\n",
    "\n",
    "PyTorch中可以使用optim.Adam来完成："
   ]
  },
  {
   "cell_type": "code",
   "execution_count": 58,
   "metadata": {},
   "outputs": [
    {
     "name": "stdout",
     "output_type": "stream",
     "text": [
      "tensor([ 1.3333,  2.4062, -1.0411, -2.9492,  1.5301,  0.3872], device='cuda:0',\n",
      "       requires_grad=True)\n"
     ]
    }
   ],
   "source": [
    "k=fd[0][0].numel()\n",
    "# 设置初始值\n",
    "if torch.cuda.is_available():\n",
    "    b=torch.rand(k+1, requires_grad=True, device=0)\n",
    "else:\n",
    "    b=torch.rand(k+1, requires_grad=True)\n",
    "\n",
    "# 初始化\n",
    "dl=DataLoader(fd, shuffle=True, batch_size=50, drop_last=False, num_workers=0)\n",
    "optimizer=optim.Adam([b], lr=0.001)\n",
    "ll_adam=[]\n",
    "for i in range(8000):\n",
    "    for x,y in dl:\n",
    "        Xb=torch.mv(x,b[:-1])+b[-1]\n",
    "        logeXb=torch.log1p(torch.exp(Xb))\n",
    "        LL=-torch.mean(y*(Xb-logeXb)+(1-y)*(-logeXb))\n",
    "        ll_adam.append(LL)\n",
    "        # 梯度清零\n",
    "        optimizer.zero_grad()\n",
    "        # 计算梯度\n",
    "        LL.backward()\n",
    "        # 迭代\n",
    "        optimizer.step()\n",
    "print(b)\n",
    "ll_adam=np.array(ll_adam)"
   ]
  },
  {
   "cell_type": "markdown",
   "metadata": {},
   "source": [
    "除此之外还有AdaDelta、AdaMax、Nadam、AMSGrad等一系列算法，再次不再赘述。\n",
    "\n",
    "我们可以对比以上这些算法的迭代效果："
   ]
  },
  {
   "cell_type": "code",
   "execution_count": 59,
   "metadata": {},
   "outputs": [
    {
     "data": {
      "image/png": "[encoded data removed]",
      "text/plain": [
       "<Figure size 1080x720 with 1 Axes>"
      ]
     },
     "metadata": {
      "needs_background": "light"
     },
     "output_type": "display_data"
    }
   ],
   "source": [
    "%matplotlib inline\n",
    "plt.rcParams['figure.figsize'] = (15.0, 10.0)\n",
    "\n",
    "l=np.linspace(0,1000,1000)\n",
    "plt.plot(l,ll_sgd[0:4000:4],label='SGD')\n",
    "plt.plot(l,ll_momentum[0:4000:4],label='Momentum')\n",
    "plt.plot(l,ll_adagrad[0:4000:4],label='AdaGrad')\n",
    "plt.plot(l,ll_rmsprop[0:4000:4],label='RMSProp')\n",
    "plt.plot(l,ll_adam[0:4000:4],label='Adam')\n",
    "plt.xlabel('Iterations')\n",
    "plt.ylabel(\"Loss\")\n",
    "plt.legend()\n",
    "plt.show() "
   ]
  },
  {
   "cell_type": "markdown",
   "metadata": {},
   "source": [
    "值得注意的是，虽然适应性学习率可以自动调整学习率，对于鞍点问题等情况有较好的表现，并且相较于SGD和带Momentum的SGD有更快的速度，但是最终收敛结果可能没有使用优良参数的简单SGD好，所以不同模型究竟使用何种优化算法并不是一成不变的。一般而言，对于稀疏、高维的数据可以使用Adam等进行尝试，而简单模型SGD就可以达到足够好的效果。一个比较简单的方法是先使用Adam等方法迭代，经过一定时间迭代后再使用SGD。\n",
    "\n",
    "下图比较了不同方法对于局部最优的性能：\n",
    "\n",
    "![](pic/sgd_local_minimum.gif \"局部最优\")\n",
    "\n",
    "而下图则比较了不同方法逃离鞍点的性能：\n",
    "\n",
    "![](pic/sgd_saddle_point.gif \"局部最优\")"
   ]
  },
  {
   "cell_type": "markdown",
   "metadata": {},
   "source": [
    "## 动态调整学习率\n",
    "\n",
    "无论是简单的SGD还是Adam，一个常见的做法是使用动态的学习率$\\eta$。比如，一个一般的做法是在迭代的初期使用较高的学习率，而后期则使用较低的学习率。在PyTorch中，可以使用optim.lr_scheduler根据epoch迭代的次数对学习率进行更新。\n",
    "\n",
    "一个比较一般化的调整方法是optim.lr_scheduler.LambdaLR，该方法需要提供：\n",
    "* optimizer：需要调整学习率的优化器\n",
    "* lr_lambda：一个根据epoch迭代次数计算出学习率的函数\n",
    "\n",
    "不过PyTorch本身集成了很多调整学习率的方案，比如：\n",
    "* StepLR: optim.lr_scheduler.StepLR(optimizer, step_size, gamma=0.1)：使用一个阶梯函数，step_size代表两次调整学习率之间epoch迭代次数，而gamma为每次更新学习率时，都将学习率乘以gamma，从而gamma越大衰减越慢\n",
    "* ExponentialLR：optim.lr_scheduler.ExponentialLR(optimizer, gamma)：每个epoch都将学习率乘以gamma\n",
    "* CosineAnnealingLR：optim.lr_scheduler.CosineAnnealingLR(optimizer, T_max, eta_min=0)：余弦退火算法，T_max为周期\n",
    "\n",
    "除此之外还有很多方案，https://pytorch.org/docs/stable/optim.html 中提供了方案列表。\n",
    "\n",
    "为了使用lr_scheduler，我们首先要进行初始化："
   ]
  },
  {
   "cell_type": "code",
   "execution_count": 60,
   "metadata": {},
   "outputs": [],
   "source": [
    "optimizer=optim.SGD([b], lr=0.01, momentum=0.9)\n",
    "lr_scheduler=torch.optim.lr_scheduler.ExponentialLR(optimizer, gamma=0.999)"
   ]
  },
  {
   "cell_type": "markdown",
   "metadata": {},
   "source": [
    "然后在迭代时，每个epoch内进行一次step()即可："
   ]
  },
  {
   "cell_type": "code",
   "execution_count": 61,
   "metadata": {},
   "outputs": [
    {
     "name": "stdout",
     "output_type": "stream",
     "text": [
      "tensor([ 1.3335,  2.4065, -1.0409, -2.9488,  1.5302,  0.3874], device='cuda:0',\n",
      "       requires_grad=True)\n"
     ]
    }
   ],
   "source": [
    "LR=[]\n",
    "for i in range(5000):\n",
    "    for x,y in dl:\n",
    "        Xb=torch.mv(x,b[:-1])+b[-1]\n",
    "        logeXb=torch.log1p(torch.exp(Xb))\n",
    "        LL=-torch.mean(y*(Xb-logeXb)+(1-y)*(-logeXb))\n",
    "        # 梯度清零\n",
    "        optimizer.zero_grad()\n",
    "        # 计算梯度\n",
    "        LL.backward()\n",
    "        # 迭代\n",
    "        optimizer.step()\n",
    "    lr_scheduler.step()\n",
    "    LR.append(lr_scheduler.get_last_lr())\n",
    "print(b)"
   ]
  },
  {
   "cell_type": "markdown",
   "metadata": {},
   "source": [
    "注意我们更新学习率时是针对每一个epoch进行一次更新，而非每次迭代都更新。\n",
    "\n",
    "我们可以查看学习率的更新情况："
   ]
  },
  {
   "cell_type": "code",
   "execution_count": 62,
   "metadata": {},
   "outputs": [
    {
     "data": {
      "image/png": "[encoded data removed]",
      "text/plain": [
       "<Figure size 1080x720 with 1 Axes>"
      ]
     },
     "metadata": {
      "needs_background": "light"
     },
     "output_type": "display_data"
    }
   ],
   "source": [
    "%matplotlib inline\n",
    "plt.rcParams['figure.figsize'] = (15.0, 10.0)\n",
    "\n",
    "l=np.linspace(0,len(LR),len(LR))\n",
    "plt.plot(l,np.array(LR),label='Learning Rate')\n",
    "plt.xlabel('Epoch')\n",
    "plt.ylabel(\"Learning Rate\")\n",
    "plt.legend()\n",
    "plt.show() "
   ]
  },
  {
   "cell_type": "markdown",
   "metadata": {},
   "source": [
    "可以发现按照这个计划，迭代结束时学习率几乎收敛到0。"
   ]
  },
  {
   "cell_type": "markdown",
   "metadata": {},
   "source": [
    "* 图片参考：\n",
    "    * https://towardsdatascience.com/a-visual-explanation-of-gradient-descent-methods-momentum-adagrad-rmsprop-adam-f898b102325c "
   ]
  }
 ],
 "metadata": {
  "kernelspec": {
   "display_name": "Python 3",
   "language": "python",
   "name": "python3"
  },
  "language_info": {
   "codemirror_mode": {
    "name": "ipython",
    "version": 3
   },
   "file_extension": ".py",
   "mimetype": "text/x-python",
   "name": "python",
   "nbconvert_exporter": "python",
   "pygments_lexer": "ipython3",
   "version": "3.8.5"
  }
 },
 "nbformat": 4,
 "nbformat_minor": 2
}
