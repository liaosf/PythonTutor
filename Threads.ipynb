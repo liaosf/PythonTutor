{
 "cells": [
  {
   "cell_type": "markdown",
   "metadata": {},
   "source": [
    "# 线程\n",
    "\n",
    "**线程**（**thread**）是计算机并行编程的一种方法，可以允许在一个**进程**（**process**）内同时完成多个任务，而同时在一个进程内不同的线程支架可以共享数据。\n",
    "\n",
    "比如，在网络爬虫的设计中，一般的模式是：\n",
    "```\n",
    "获取数据 ->  解析数据 -> 存储数据\n",
    "```\n",
    "如果按照这样的线性的操作，整个过程的效率决定于最慢的一个环节。比如，通常来讲解析和存储数据是非常快的，而获取数据的步骤由于涉及到网络IO，速度比较慢，一个想法是我们可以将三者解耦，即分成两个不同的部分：\n",
    "```\n",
    "网络IO部分：\n",
    "\n",
    "获取数据 ~> 暂存区域\n",
    "```\n",
    "以及：\n",
    "```\n",
    "本地IO部分：\n",
    "\n",
    "暂存数据 ~> 解析数据 -> 存储数据\n",
    "```\n",
    "其中网络IO部分和本地IO部分**同时**运行，其交流通过一个暂存区域进行。\n",
    "\n",
    "按照这个方法\n",
    "\n",
    "* 网络IO部分在获取数据以后可以立即进行下一次的数据获取，而不需要等待解析数据和存储数据的完成；甚至这个部分可以复制两份、三份，即有三个不同的线程分别都在进行获取数据工作\n",
    "* 本地IO部分不断的查看暂存区域，如果有信息就将其解析，并进行本地存储。\n",
    "\n",
    "这样，通过将任务解耦，在一个程序内部有几个不同的线程进行分工合作，就可以极大的提高工作效率。\n",
    "\n",
    "然而，**多个线程共同访问一个存储区域是一个危险的行为**！\n",
    "\n",
    "比如，一个简单的例子，如果有多个线程同时向暂存区域写入数据，不同的进程之间有可能会打架，相互覆盖掉彼此的数据，此时就会引起明显的冲突。\n",
    "\n",
    "解决这一问题的简单方案是加一个“锁”：当一个线程写入一个变量或者区域时，其他线程不得对该变量或者区域进行操作。\n",
    "\n",
    "而值得注意的是，为了防止以上情况的发生，Python使用了**全局解释器锁**（**GIL**），这个锁可以保证同时只有一个线程在运行。\n",
    "\n",
    "所以Python中的多线程实际上是假的多线程：自始至终在同一时间只有一个线程在工作，只不过Python在不同时间切换到了不同线程进行工作，看起来好像是多线程在工作一样。这有点像我们平时微信聊天：在每个时间点，我们只能跟一个人聊天，但是这不影响我们这一分钟跟A聊天，下一分钟跟B聊天，再下一分钟再返回来跟A聊天，这样整个看起来我好像是“同时”在跟两个人聊天一样。\n",
    "\n",
    "正因为有GIL，所以Python中的多线程的效率是非常低的，所以在科学计算等高性能计算领域，Python的多线程对于提高计算速度并没有任何帮助（NumPy等工具箱的并行计算依赖于更加底层的BLAS等，本质上是一些C、Fortran写出来的计算包，所以实际运算的时候并不是使用的Python的多线程计算，而是使用的C、Fortran的并行计算，并没有GIL的限制，效率非常高）。然而在一些IO密集型的领域，比如网络爬虫，性能的瓶颈并不是计算，而是IO，此时Python线程的使用可以大大提高效率。\n",
    "\n",
    "接下来我们使用几个简单的例子介绍Python中多线程编程的使用方法。\n",
    "\n",
    "在Python中，可以通过threading模块引入线程，在threading中有一个Threading类，我们所要做的就是继承Threading这个类，然后定义初始化方法以及运行方法，比如"
   ]
  },
  {
   "cell_type": "code",
   "execution_count": 1,
   "metadata": {},
   "outputs": [],
   "source": [
    "import threading\n",
    "import time\n",
    "\n",
    "class simple_thread(threading.Thread):\n",
    "    def __init__(self, delta_time, name):\n",
    "        threading.Thread.__init__(self)\n",
    "        self.name=name\n",
    "        self.delta_time=delta_time\n",
    "    def run(self):\n",
    "        t=0\n",
    "        while t<=10:\n",
    "            print(f\"In thread {self.name}, t={t}\")\n",
    "            time.sleep(self.delta_time)\n",
    "            t+=1"
   ]
  },
  {
   "cell_type": "markdown",
   "metadata": {},
   "source": [
    "以上仅仅定义了一个进程，还没有开始运行，为了运行，我们可以创建以上对象的两个实例："
   ]
  },
  {
   "cell_type": "code",
   "execution_count": 2,
   "metadata": {},
   "outputs": [],
   "source": [
    "thread1=simple_thread(1,'A')\n",
    "thread2=simple_thread(0.5,'B')"
   ]
  },
  {
   "cell_type": "markdown",
   "metadata": {},
   "source": [
    "其中thread1每隔1秒打印一次，而thread2每隔0.5秒打印一次。\n",
    "\n",
    "然后使用start()方法启动："
   ]
  },
  {
   "cell_type": "code",
   "execution_count": 3,
   "metadata": {},
   "outputs": [
    {
     "name": "stdout",
     "output_type": "stream",
     "text": [
      "In thread A, t=0\n",
      "In thread B, t=0\n",
      "In thread B, t=1\n",
      "In thread A, t=1\n",
      "In thread B, t=2\n",
      "In thread B, t=3\n",
      "In thread A, t=2\n",
      "In thread B, t=4\n",
      "In thread B, t=5\n",
      "In thread A, t=3\n",
      "In thread B, t=6\n",
      "In thread B, t=7\n",
      "In thread A, t=4\n",
      "In thread B, t=8\n",
      "In thread B, t=9\n",
      "In thread A, t=5\n",
      "In thread B, t=10\n",
      "In thread A, t=6\n",
      "In thread A, t=7\n",
      "In thread A, t=8\n",
      "In thread A, t=9\n",
      "In thread A, t=10\n",
      "所有线程结束\n"
     ]
    }
   ],
   "source": [
    "thread1.start()\n",
    "thread2.start()\n",
    "thread1.join()\n",
    "thread2.join()\n",
    "print(\"所有线程结束\")"
   ]
  },
  {
   "cell_type": "markdown",
   "metadata": {},
   "source": [
    "其中join()方法意思是让调用该线程的主线程等待该线程运行结束。\n",
    "\n",
    "此外，还可以使用is_alive()方法判断该线程是否仍在活动，比如可以再写一个线程对其进行监听："
   ]
  },
  {
   "cell_type": "code",
   "execution_count": 4,
   "metadata": {},
   "outputs": [
    {
     "name": "stdout",
     "output_type": "stream",
     "text": [
      "In thread A, t=0\n",
      "In thread B, t=0\n",
      "In thread B, t=1\n",
      "In thread A, t=1\n",
      "In thread B, t=2\n",
      "In thread B, t=3\n",
      "In thread A, t=2\n",
      "In thread B, t=4\n",
      "In thread B, t=5\n",
      "In thread A, t=3\n",
      "In thread B, t=6\n",
      "In thread B, t=7\n",
      "In thread A, t=4\n",
      "In thread B, t=8\n",
      "In thread B, t=9\n",
      "In thread A, t=5\n",
      "In thread B, t=10\n",
      "In thread A, t=6\n",
      "Thread B is down.\n",
      "In thread A, t=7\n",
      "In thread A, t=8\n",
      "In thread A, t=9\n",
      "In thread A, t=10\n",
      "Thread A is down.\n"
     ]
    }
   ],
   "source": [
    "thread1=simple_thread(1,'A')\n",
    "thread2=simple_thread(0.5,'B')\n",
    "Threads=[thread1, thread2]\n",
    "\n",
    "class monitor_thread(threading.Thread):\n",
    "    def __init__(self, threads):\n",
    "        threading.Thread.__init__(self)\n",
    "        self.threads={}\n",
    "        for i in range(len(threads)):\n",
    "            self.threads[i]={}\n",
    "            self.threads[i][\"thread\"]=threads[i]\n",
    "            self.threads[i][\"alive\"]=True\n",
    "    def run(self):\n",
    "        while True:\n",
    "            for t in self.threads:\n",
    "                if self.threads[t][\"alive\"] and not self.threads[t][\"thread\"].is_alive():\n",
    "                    self.threads[t][\"alive\"]=False\n",
    "                    print(\"Thread %s is down.\" % self.threads[t][\"thread\"].getName())\n",
    "            all_done=True\n",
    "            for t in self.threads:\n",
    "                if self.threads[t][\"alive\"]:\n",
    "                    all_done=False\n",
    "                    break\n",
    "            if all_done:\n",
    "                break\n",
    "            time.sleep(0.9)\n",
    "thread3=monitor_thread(Threads)\n",
    "\n",
    "for t in Threads:\n",
    "    t.start()\n",
    "thread3.start()\n",
    "for t in Threads:\n",
    "    t.join()\n",
    "thread3.join()"
   ]
  },
  {
   "cell_type": "markdown",
   "metadata": {},
   "source": [
    "下面展示一个实际的例子，我们使用一个列表存储一些数字，然后使用多线程对列表中的数字进行一些复杂的运算（这里简单计算平方，然后用time.sleep()函数等待一点点时间），写法如下："
   ]
  },
  {
   "cell_type": "code",
   "execution_count": 5,
   "metadata": {},
   "outputs": [
    {
     "name": "stdout",
     "output_type": "stream",
     "text": [
      "In thread 0, number=0, result=0\n",
      "In thread 1, number=1, result=1\n",
      "In thread 2, number=2, result=4\n",
      "In thread 0, number=3, result=9\n",
      "In thread 2, number=4, result=16\n",
      "In thread 1, number=5, result=25\n",
      "In thread 0, number=6, result=36\n",
      "In thread 2, number=7, result=49\n",
      "In thread 1, number=8, result=64\n",
      "In thread 0, number=9, result=81\n"
     ]
    }
   ],
   "source": [
    "NumList=[i for i in range(10)]\n",
    "n=0\n",
    "class square_thread(threading.Thread):\n",
    "    def __init__(self, i):\n",
    "        threading.Thread.__init__(self)\n",
    "        self.i=i\n",
    "    def run(self):\n",
    "        global n\n",
    "        global NumList\n",
    "        while n<=9:\n",
    "            print(f\"In thread {self.i}, number={NumList[n]}, result={NumList[n]**2}\")\n",
    "            n+=1\n",
    "            time.sleep(1)\n",
    "threads=[]\n",
    "for i in range(3):\n",
    "    threads.append(square_thread(i))\n",
    "    threads[i].start()\n",
    "for i in range(3):\n",
    "    threads[i].join()"
   ]
  },
  {
   "cell_type": "markdown",
   "metadata": {},
   "source": [
    "如果将以上代码多运行几遍，就会发现以上代码有很大问题：我们使用了一个全局变量n，然而和有可能存在一种情况即两个线程同时对n进行操作的情况，比如某一次的运行结果如下：\n",
    "```\n",
    "In thread 0, number=0, result=0\n",
    "In thread 1, number=1, result=1\n",
    "In thread 2, number=2, result=4\n",
    "In thread 0, number=3, result=9\n",
    "In thread 1, number=4, result=16\n",
    "In thread 2, number=5, result=25\n",
    "In thread 0, number=6, result=36\n",
    "In thread 1, number=7, result=49In thread 2, number=7, result=49\n",
    "\n",
    "In thread 0, number=9, result=81\n",
    "```\n",
    "导致如上结果的原因是线程1和2同时对n进行了操作：thread1首先取得n=7，然后计算，就在此时thread2也取得n=7，然后计算，然后thread1计算完毕，令n自增1，此时thread0还没有跟进，thread2已经结束，又令n自增1，此时n=9，等到thread0反应过来时，取得的n已经=9，而不是8了，所以导致以上代码计算了两边n=7，但是没有计算n=8。\n",
    "\n",
    "这就是没有加锁导致的不同线程同时访问相同变量时导致的冲突。为了解决这个问题，我们可以使用一些特殊的数据结构，比如**线程安全**的**队列**（**Queue**）。"
   ]
  },
  {
   "cell_type": "markdown",
   "metadata": {},
   "source": [
    "# 队列\n",
    "\n",
    "**队列**（**Queue**）是一种特殊的数据结构，其设计时就是线程安全的，意味着队列可以很放心的用在多线程编程中。\n",
    "\n",
    "我们可以把队列理解为一个银行排队的过程：不断的有新的元素（人）进入，然后取号，多个不同的柜台按照**先入先出**（**First In First Out**, **FIFO**）的原则，按号码叫好办理业务。这里面，每个柜台可以看成是一个单独的处理任务的线程，队列的设计可以保证两个不同的柜台不会叫到同一个号。当然，元素的进入也可以是多线程的，比如我们可以想象银行有几个不同的门，每个门都有一个取号机，每个取号机也是一个线程，取号机也可以保证每个人拿到的号码是不一样的。\n",
    "\n",
    "当然，队列也可以不是FIFO的，而是LIFO（Last In Fist Out）的，或者具有优先级的，我们接下来以Queue模块为例介绍FIFO的队列，对于LIFO或者带有优先级的队列，可以使用LifoQueue模块或者PriorityQueue模块。\n",
    "\n",
    "使用Queue模块只需要从queue模块中导入Queue，然后新建一个Queue的实例，使用put方法加入元素，使用get方法取出元素即可。比如："
   ]
  },
  {
   "cell_type": "code",
   "execution_count": 6,
   "metadata": {},
   "outputs": [
    {
     "name": "stdout",
     "output_type": "stream",
     "text": [
      "0 is get from NumQueue.\n",
      "1 is get from NumQueue.\n",
      "2 is get from NumQueue.\n",
      "3 is get from NumQueue.\n",
      "4 is get from NumQueue.\n",
      "5 is get from NumQueue.\n",
      "6 is get from NumQueue.\n",
      "7 is get from NumQueue.\n",
      "8 is get from NumQueue.\n",
      "9 is get from NumQueue.\n"
     ]
    }
   ],
   "source": [
    "from queue import Queue\n",
    "\n",
    "NumQueue=Queue()\n",
    "for i in range(10):\n",
    "    NumQueue.put(i)\n",
    "while NumQueue.qsize()>0:\n",
    "    print(f\"{NumQueue.get()} is get from NumQueue.\")"
   ]
  },
  {
   "cell_type": "markdown",
   "metadata": {},
   "source": [
    "现在，我们可以将放入元素和取出元素放在两个不同的线程里面，这也是一个简单的**生产者-消费者问题**：生产者将数据放入到队列，然后消费者从队列中取出数据进行处理。\n",
    "\n",
    "接下来，我们重写以上的平方计算问题："
   ]
  },
  {
   "cell_type": "code",
   "execution_count": 7,
   "metadata": {},
   "outputs": [
    {
     "name": "stdout",
     "output_type": "stream",
     "text": [
      "In thread 0, 0^2=0In thread 1, 10^2=100\n",
      "\n",
      "In thread 2, 1^2=1\n",
      "In thread 0, 11^2=121In thread 2, 2^2=4In thread 1, 12^2=144\n",
      "\n",
      "\n",
      "In thread 2, 3^2=9\n",
      "In thread 1, 13^2=169In thread 0, 4^2=16\n",
      "\n",
      "In thread 0, 14^2=196\n"
     ]
    }
   ],
   "source": [
    "NumQueue=Queue()\n",
    "\n",
    "## 生产者\n",
    "class producer(threading.Thread):\n",
    "    def __init__(self, begin_num):\n",
    "        super().__init__()\n",
    "        self.begin_num=begin_num\n",
    "    def run(self):\n",
    "        for i in range(5):\n",
    "            NumQueue.put(self.begin_num+i)\n",
    "            time.sleep(0.001)\n",
    "            \n",
    "## 消费者\n",
    "class consumer(threading.Thread):\n",
    "    def __init__(self, i):\n",
    "        super().__init__()\n",
    "        self.i=i\n",
    "    def run(self):\n",
    "        while NumQueue.qsize()>0:\n",
    "            num=NumQueue.get()\n",
    "            print(f\"In thread {self.i}, {num}^2={num**2}\")\n",
    "            time.sleep(1)\n",
    "\n",
    "## 两个生产者，一个从0开始，一个从10开始：\n",
    "Producer=[]\n",
    "for i in range(2):\n",
    "    Producer.append(producer(10*i))\n",
    "    Producer[i].start()\n",
    "## 三个消费者\n",
    "Consumer=[]\n",
    "for i in range(3):\n",
    "    Consumer.append(consumer(i))\n",
    "    Consumer[i].start()\n",
    "for i in range(3):\n",
    "    Consumer[i].join()"
   ]
  },
  {
   "cell_type": "markdown",
   "metadata": {},
   "source": [
    "如上就解决了线程安全问题。"
   ]
  }
 ],
 "metadata": {
  "kernelspec": {
   "display_name": "Python 3",
   "language": "python",
   "name": "python3"
  },
  "language_info": {
   "codemirror_mode": {
    "name": "ipython",
    "version": 3
   },
   "file_extension": ".py",
   "mimetype": "text/x-python",
   "name": "python",
   "nbconvert_exporter": "python",
   "pygments_lexer": "ipython3",
   "version": "3.8.10"
  }
 },
 "nbformat": 4,
 "nbformat_minor": 4
}
